{
 "cells": [
  {
   "cell_type": "code",
   "execution_count": 1,
   "id": "a4d781b1",
   "metadata": {
    "_cell_guid": "b1076dfc-b9ad-4769-8c92-a6c4dae69d19",
    "_uuid": "8f2839f25d086af736a60e9eeb907d3b93b6e0e5",
    "execution": {
     "iopub.execute_input": "2024-07-21T20:30:29.678334Z",
     "iopub.status.busy": "2024-07-21T20:30:29.677820Z",
     "iopub.status.idle": "2024-07-21T20:30:30.645829Z",
     "shell.execute_reply": "2024-07-21T20:30:30.644771Z"
    },
    "papermill": {
     "duration": 0.979717,
     "end_time": "2024-07-21T20:30:30.648623",
     "exception": false,
     "start_time": "2024-07-21T20:30:29.668906",
     "status": "completed"
    },
    "tags": []
   },
   "outputs": [
    {
     "name": "stdout",
     "output_type": "stream",
     "text": [
      "/kaggle/input/playground-series-s3e25/sample_submission.csv\n",
      "/kaggle/input/playground-series-s3e25/train.csv\n",
      "/kaggle/input/playground-series-s3e25/test.csv\n"
     ]
    }
   ],
   "source": [
    "# This Python 3 environment comes with many helpful analytics libraries installed\n",
    "# It is defined by the kaggle/python Docker image: https://github.com/kaggle/docker-python\n",
    "# For example, here's several helpful packages to load\n",
    "\n",
    "import numpy as np # linear algebra\n",
    "import pandas as pd # data processing, CSV file I/O (e.g. pd.read_csv)\n",
    "\n",
    "# Input data files are available in the read-only \"../input/\" directory\n",
    "# For example, running this (by clicking run or pressing Shift+Enter) will list all files under the input directory\n",
    "\n",
    "import os\n",
    "for dirname, _, filenames in os.walk('/kaggle/input'):\n",
    "    for filename in filenames:\n",
    "        print(os.path.join(dirname, filename))\n",
    "\n",
    "# You can write up to 20GB to the current directory (/kaggle/working/) that gets preserved as output when you create a version using \"Save & Run All\" \n",
    "# You can also write temporary files to /kaggle/temp/, but they won't be saved outside of the current session"
   ]
  },
  {
   "cell_type": "code",
   "execution_count": 2,
   "id": "03cc157b",
   "metadata": {
    "execution": {
     "iopub.execute_input": "2024-07-21T20:30:30.663499Z",
     "iopub.status.busy": "2024-07-21T20:30:30.662958Z",
     "iopub.status.idle": "2024-07-21T20:30:30.757478Z",
     "shell.execute_reply": "2024-07-21T20:30:30.756436Z"
    },
    "papermill": {
     "duration": 0.104971,
     "end_time": "2024-07-21T20:30:30.760312",
     "exception": false,
     "start_time": "2024-07-21T20:30:30.655341",
     "status": "completed"
    },
    "tags": []
   },
   "outputs": [],
   "source": [
    "import json\n",
    "import pandas as pd\n",
    "\n",
    "train_data=pd.read_csv('/kaggle/input/playground-series-s3e25/train.csv')\n",
    "test_data=pd.read_csv('/kaggle/input/playground-series-s3e25/test.csv')\n",
    "df = train_data"
   ]
  },
  {
   "cell_type": "code",
   "execution_count": 3,
   "id": "d41130b1",
   "metadata": {
    "execution": {
     "iopub.execute_input": "2024-07-21T20:30:30.775266Z",
     "iopub.status.busy": "2024-07-21T20:30:30.774817Z",
     "iopub.status.idle": "2024-07-21T20:30:30.808469Z",
     "shell.execute_reply": "2024-07-21T20:30:30.807321Z"
    },
    "papermill": {
     "duration": 0.044153,
     "end_time": "2024-07-21T20:30:30.811136",
     "exception": false,
     "start_time": "2024-07-21T20:30:30.766983",
     "status": "completed"
    },
    "tags": []
   },
   "outputs": [
    {
     "data": {
      "text/html": [
       "<div>\n",
       "<style scoped>\n",
       "    .dataframe tbody tr th:only-of-type {\n",
       "        vertical-align: middle;\n",
       "    }\n",
       "\n",
       "    .dataframe tbody tr th {\n",
       "        vertical-align: top;\n",
       "    }\n",
       "\n",
       "    .dataframe thead th {\n",
       "        text-align: right;\n",
       "    }\n",
       "</style>\n",
       "<table border=\"1\" class=\"dataframe\">\n",
       "  <thead>\n",
       "    <tr style=\"text-align: right;\">\n",
       "      <th></th>\n",
       "      <th>id</th>\n",
       "      <th>allelectrons_Total</th>\n",
       "      <th>density_Total</th>\n",
       "      <th>allelectrons_Average</th>\n",
       "      <th>val_e_Average</th>\n",
       "      <th>atomicweight_Average</th>\n",
       "      <th>ionenergy_Average</th>\n",
       "      <th>el_neg_chi_Average</th>\n",
       "      <th>R_vdw_element_Average</th>\n",
       "      <th>R_cov_element_Average</th>\n",
       "      <th>zaratio_Average</th>\n",
       "      <th>density_Average</th>\n",
       "      <th>Hardness</th>\n",
       "    </tr>\n",
       "  </thead>\n",
       "  <tbody>\n",
       "    <tr>\n",
       "      <th>0</th>\n",
       "      <td>0</td>\n",
       "      <td>100.0</td>\n",
       "      <td>0.841611</td>\n",
       "      <td>10.0</td>\n",
       "      <td>4.8</td>\n",
       "      <td>20.612526</td>\n",
       "      <td>11.08810</td>\n",
       "      <td>2.766</td>\n",
       "      <td>1.732</td>\n",
       "      <td>0.860</td>\n",
       "      <td>0.496070</td>\n",
       "      <td>0.91457</td>\n",
       "      <td>6.0</td>\n",
       "    </tr>\n",
       "    <tr>\n",
       "      <th>1</th>\n",
       "      <td>1</td>\n",
       "      <td>100.0</td>\n",
       "      <td>7.558488</td>\n",
       "      <td>10.0</td>\n",
       "      <td>4.8</td>\n",
       "      <td>20.298893</td>\n",
       "      <td>12.04083</td>\n",
       "      <td>2.755</td>\n",
       "      <td>1.631</td>\n",
       "      <td>0.910</td>\n",
       "      <td>0.492719</td>\n",
       "      <td>0.71760</td>\n",
       "      <td>6.5</td>\n",
       "    </tr>\n",
       "    <tr>\n",
       "      <th>2</th>\n",
       "      <td>2</td>\n",
       "      <td>76.0</td>\n",
       "      <td>8.885992</td>\n",
       "      <td>15.6</td>\n",
       "      <td>5.6</td>\n",
       "      <td>33.739258</td>\n",
       "      <td>12.08630</td>\n",
       "      <td>2.828</td>\n",
       "      <td>1.788</td>\n",
       "      <td>0.864</td>\n",
       "      <td>0.481478</td>\n",
       "      <td>1.50633</td>\n",
       "      <td>2.5</td>\n",
       "    </tr>\n",
       "    <tr>\n",
       "      <th>3</th>\n",
       "      <td>3</td>\n",
       "      <td>100.0</td>\n",
       "      <td>8.795296</td>\n",
       "      <td>10.0</td>\n",
       "      <td>4.8</td>\n",
       "      <td>20.213349</td>\n",
       "      <td>10.94850</td>\n",
       "      <td>2.648</td>\n",
       "      <td>1.626</td>\n",
       "      <td>0.936</td>\n",
       "      <td>0.489272</td>\n",
       "      <td>0.78937</td>\n",
       "      <td>6.0</td>\n",
       "    </tr>\n",
       "    <tr>\n",
       "      <th>4</th>\n",
       "      <td>4</td>\n",
       "      <td>116.0</td>\n",
       "      <td>9.577996</td>\n",
       "      <td>11.6</td>\n",
       "      <td>4.8</td>\n",
       "      <td>24.988133</td>\n",
       "      <td>11.82448</td>\n",
       "      <td>2.766</td>\n",
       "      <td>1.682</td>\n",
       "      <td>0.896</td>\n",
       "      <td>0.492736</td>\n",
       "      <td>1.86481</td>\n",
       "      <td>6.0</td>\n",
       "    </tr>\n",
       "  </tbody>\n",
       "</table>\n",
       "</div>"
      ],
      "text/plain": [
       "   id  allelectrons_Total  density_Total  allelectrons_Average  val_e_Average  \\\n",
       "0   0               100.0       0.841611                  10.0            4.8   \n",
       "1   1               100.0       7.558488                  10.0            4.8   \n",
       "2   2                76.0       8.885992                  15.6            5.6   \n",
       "3   3               100.0       8.795296                  10.0            4.8   \n",
       "4   4               116.0       9.577996                  11.6            4.8   \n",
       "\n",
       "   atomicweight_Average  ionenergy_Average  el_neg_chi_Average  \\\n",
       "0             20.612526           11.08810               2.766   \n",
       "1             20.298893           12.04083               2.755   \n",
       "2             33.739258           12.08630               2.828   \n",
       "3             20.213349           10.94850               2.648   \n",
       "4             24.988133           11.82448               2.766   \n",
       "\n",
       "   R_vdw_element_Average  R_cov_element_Average  zaratio_Average  \\\n",
       "0                  1.732                  0.860         0.496070   \n",
       "1                  1.631                  0.910         0.492719   \n",
       "2                  1.788                  0.864         0.481478   \n",
       "3                  1.626                  0.936         0.489272   \n",
       "4                  1.682                  0.896         0.492736   \n",
       "\n",
       "   density_Average  Hardness  \n",
       "0          0.91457       6.0  \n",
       "1          0.71760       6.5  \n",
       "2          1.50633       2.5  \n",
       "3          0.78937       6.0  \n",
       "4          1.86481       6.0  "
      ]
     },
     "execution_count": 3,
     "metadata": {},
     "output_type": "execute_result"
    }
   ],
   "source": [
    "train_data.head()"
   ]
  },
  {
   "cell_type": "code",
   "execution_count": 4,
   "id": "fc45c9c2",
   "metadata": {
    "execution": {
     "iopub.execute_input": "2024-07-21T20:30:30.826090Z",
     "iopub.status.busy": "2024-07-21T20:30:30.825694Z",
     "iopub.status.idle": "2024-07-21T20:30:30.846141Z",
     "shell.execute_reply": "2024-07-21T20:30:30.845048Z"
    },
    "papermill": {
     "duration": 0.030644,
     "end_time": "2024-07-21T20:30:30.848523",
     "exception": false,
     "start_time": "2024-07-21T20:30:30.817879",
     "status": "completed"
    },
    "tags": []
   },
   "outputs": [
    {
     "data": {
      "text/html": [
       "<div>\n",
       "<style scoped>\n",
       "    .dataframe tbody tr th:only-of-type {\n",
       "        vertical-align: middle;\n",
       "    }\n",
       "\n",
       "    .dataframe tbody tr th {\n",
       "        vertical-align: top;\n",
       "    }\n",
       "\n",
       "    .dataframe thead th {\n",
       "        text-align: right;\n",
       "    }\n",
       "</style>\n",
       "<table border=\"1\" class=\"dataframe\">\n",
       "  <thead>\n",
       "    <tr style=\"text-align: right;\">\n",
       "      <th></th>\n",
       "      <th>id</th>\n",
       "      <th>allelectrons_Total</th>\n",
       "      <th>density_Total</th>\n",
       "      <th>allelectrons_Average</th>\n",
       "      <th>val_e_Average</th>\n",
       "      <th>atomicweight_Average</th>\n",
       "      <th>ionenergy_Average</th>\n",
       "      <th>el_neg_chi_Average</th>\n",
       "      <th>R_vdw_element_Average</th>\n",
       "      <th>R_cov_element_Average</th>\n",
       "      <th>zaratio_Average</th>\n",
       "      <th>density_Average</th>\n",
       "    </tr>\n",
       "  </thead>\n",
       "  <tbody>\n",
       "    <tr>\n",
       "      <th>0</th>\n",
       "      <td>10407</td>\n",
       "      <td>884.0</td>\n",
       "      <td>121.420000</td>\n",
       "      <td>35.36</td>\n",
       "      <td>5.28</td>\n",
       "      <td>82.561240</td>\n",
       "      <td>9.370384</td>\n",
       "      <td>2.298</td>\n",
       "      <td>1.9072</td>\n",
       "      <td>1.200000</td>\n",
       "      <td>0.461899</td>\n",
       "      <td>1.79459</td>\n",
       "    </tr>\n",
       "    <tr>\n",
       "      <th>1</th>\n",
       "      <td>10408</td>\n",
       "      <td>90.0</td>\n",
       "      <td>9.931960</td>\n",
       "      <td>18.00</td>\n",
       "      <td>5.60</td>\n",
       "      <td>39.568056</td>\n",
       "      <td>12.086300</td>\n",
       "      <td>2.868</td>\n",
       "      <td>1.6520</td>\n",
       "      <td>0.864000</td>\n",
       "      <td>0.476196</td>\n",
       "      <td>1.41194</td>\n",
       "    </tr>\n",
       "    <tr>\n",
       "      <th>2</th>\n",
       "      <td>10409</td>\n",
       "      <td>116.0</td>\n",
       "      <td>7.767992</td>\n",
       "      <td>11.60</td>\n",
       "      <td>4.80</td>\n",
       "      <td>23.231818</td>\n",
       "      <td>11.023840</td>\n",
       "      <td>2.644</td>\n",
       "      <td>1.7940</td>\n",
       "      <td>0.960000</td>\n",
       "      <td>0.499514</td>\n",
       "      <td>0.78834</td>\n",
       "    </tr>\n",
       "    <tr>\n",
       "      <th>3</th>\n",
       "      <td>10410</td>\n",
       "      <td>100.0</td>\n",
       "      <td>9.107996</td>\n",
       "      <td>10.00</td>\n",
       "      <td>4.80</td>\n",
       "      <td>20.298893</td>\n",
       "      <td>12.086300</td>\n",
       "      <td>2.828</td>\n",
       "      <td>1.6620</td>\n",
       "      <td>0.792000</td>\n",
       "      <td>0.495796</td>\n",
       "      <td>1.20466</td>\n",
       "    </tr>\n",
       "    <tr>\n",
       "      <th>4</th>\n",
       "      <td>10411</td>\n",
       "      <td>55.0</td>\n",
       "      <td>4.030000</td>\n",
       "      <td>11.00</td>\n",
       "      <td>4.00</td>\n",
       "      <td>22.977675</td>\n",
       "      <td>11.280950</td>\n",
       "      <td>2.455</td>\n",
       "      <td>1.7500</td>\n",
       "      <td>0.893333</td>\n",
       "      <td>0.476095</td>\n",
       "      <td>0.93456</td>\n",
       "    </tr>\n",
       "  </tbody>\n",
       "</table>\n",
       "</div>"
      ],
      "text/plain": [
       "      id  allelectrons_Total  density_Total  allelectrons_Average  \\\n",
       "0  10407               884.0     121.420000                 35.36   \n",
       "1  10408                90.0       9.931960                 18.00   \n",
       "2  10409               116.0       7.767992                 11.60   \n",
       "3  10410               100.0       9.107996                 10.00   \n",
       "4  10411                55.0       4.030000                 11.00   \n",
       "\n",
       "   val_e_Average  atomicweight_Average  ionenergy_Average  el_neg_chi_Average  \\\n",
       "0           5.28             82.561240           9.370384               2.298   \n",
       "1           5.60             39.568056          12.086300               2.868   \n",
       "2           4.80             23.231818          11.023840               2.644   \n",
       "3           4.80             20.298893          12.086300               2.828   \n",
       "4           4.00             22.977675          11.280950               2.455   \n",
       "\n",
       "   R_vdw_element_Average  R_cov_element_Average  zaratio_Average  \\\n",
       "0                 1.9072               1.200000         0.461899   \n",
       "1                 1.6520               0.864000         0.476196   \n",
       "2                 1.7940               0.960000         0.499514   \n",
       "3                 1.6620               0.792000         0.495796   \n",
       "4                 1.7500               0.893333         0.476095   \n",
       "\n",
       "   density_Average  \n",
       "0          1.79459  \n",
       "1          1.41194  \n",
       "2          0.78834  \n",
       "3          1.20466  \n",
       "4          0.93456  "
      ]
     },
     "execution_count": 4,
     "metadata": {},
     "output_type": "execute_result"
    }
   ],
   "source": [
    "test_data.head()"
   ]
  },
  {
   "cell_type": "code",
   "execution_count": 5,
   "id": "3dc1854f",
   "metadata": {
    "execution": {
     "iopub.execute_input": "2024-07-21T20:30:30.864394Z",
     "iopub.status.busy": "2024-07-21T20:30:30.863958Z",
     "iopub.status.idle": "2024-07-21T20:30:30.928641Z",
     "shell.execute_reply": "2024-07-21T20:30:30.927480Z"
    },
    "papermill": {
     "duration": 0.075481,
     "end_time": "2024-07-21T20:30:30.930976",
     "exception": false,
     "start_time": "2024-07-21T20:30:30.855495",
     "status": "completed"
    },
    "tags": []
   },
   "outputs": [
    {
     "name": "stdout",
     "output_type": "stream",
     "text": [
      "dimensions:  (10407, 13)\n",
      "\n",
      "Index(['id', 'allelectrons_Total', 'density_Total', 'allelectrons_Average',\n",
      "       'val_e_Average', 'atomicweight_Average', 'ionenergy_Average',\n",
      "       'el_neg_chi_Average', 'R_vdw_element_Average', 'R_cov_element_Average',\n",
      "       'zaratio_Average', 'density_Average', 'Hardness'],\n",
      "      dtype='object')\n",
      "\n",
      "types of columns:\n",
      "id                         int64\n",
      "allelectrons_Total       float64\n",
      "density_Total            float64\n",
      "allelectrons_Average     float64\n",
      "val_e_Average            float64\n",
      "atomicweight_Average     float64\n",
      "ionenergy_Average        float64\n",
      "el_neg_chi_Average       float64\n",
      "R_vdw_element_Average    float64\n",
      "R_cov_element_Average    float64\n",
      "zaratio_Average          float64\n",
      "density_Average          float64\n",
      "Hardness                 float64\n",
      "dtype: object\n",
      "\n",
      "missing values:\n",
      "id                       0\n",
      "allelectrons_Total       0\n",
      "density_Total            0\n",
      "allelectrons_Average     0\n",
      "val_e_Average            0\n",
      "atomicweight_Average     0\n",
      "ionenergy_Average        0\n",
      "el_neg_chi_Average       0\n",
      "R_vdw_element_Average    0\n",
      "R_cov_element_Average    0\n",
      "zaratio_Average          0\n",
      "density_Average          0\n",
      "Hardness                 0\n",
      "\n"
     ]
    },
    {
     "data": {
      "text/html": [
       "<div>\n",
       "<style scoped>\n",
       "    .dataframe tbody tr th:only-of-type {\n",
       "        vertical-align: middle;\n",
       "    }\n",
       "\n",
       "    .dataframe tbody tr th {\n",
       "        vertical-align: top;\n",
       "    }\n",
       "\n",
       "    .dataframe thead th {\n",
       "        text-align: right;\n",
       "    }\n",
       "</style>\n",
       "<table border=\"1\" class=\"dataframe\">\n",
       "  <thead>\n",
       "    <tr style=\"text-align: right;\">\n",
       "      <th></th>\n",
       "      <th>id</th>\n",
       "      <th>allelectrons_Total</th>\n",
       "      <th>density_Total</th>\n",
       "      <th>allelectrons_Average</th>\n",
       "      <th>val_e_Average</th>\n",
       "      <th>atomicweight_Average</th>\n",
       "      <th>ionenergy_Average</th>\n",
       "      <th>el_neg_chi_Average</th>\n",
       "      <th>R_vdw_element_Average</th>\n",
       "      <th>R_cov_element_Average</th>\n",
       "      <th>zaratio_Average</th>\n",
       "      <th>density_Average</th>\n",
       "      <th>Hardness</th>\n",
       "    </tr>\n",
       "  </thead>\n",
       "  <tbody>\n",
       "    <tr>\n",
       "      <th>count</th>\n",
       "      <td>10407.00000</td>\n",
       "      <td>10407.000000</td>\n",
       "      <td>10407.000000</td>\n",
       "      <td>10407.000000</td>\n",
       "      <td>10407.000000</td>\n",
       "      <td>10407.000000</td>\n",
       "      <td>10407.000000</td>\n",
       "      <td>10407.000000</td>\n",
       "      <td>10407.000000</td>\n",
       "      <td>10407.000000</td>\n",
       "      <td>10407.000000</td>\n",
       "      <td>10407.000000</td>\n",
       "      <td>10407.000000</td>\n",
       "    </tr>\n",
       "    <tr>\n",
       "      <th>mean</th>\n",
       "      <td>5203.00000</td>\n",
       "      <td>128.053516</td>\n",
       "      <td>14.491342</td>\n",
       "      <td>17.033222</td>\n",
       "      <td>4.546789</td>\n",
       "      <td>37.507703</td>\n",
       "      <td>10.938308</td>\n",
       "      <td>2.607662</td>\n",
       "      <td>1.731330</td>\n",
       "      <td>0.944132</td>\n",
       "      <td>0.493349</td>\n",
       "      <td>2.132984</td>\n",
       "      <td>4.647126</td>\n",
       "    </tr>\n",
       "    <tr>\n",
       "      <th>std</th>\n",
       "      <td>3004.38646</td>\n",
       "      <td>224.123776</td>\n",
       "      <td>15.972877</td>\n",
       "      <td>10.468734</td>\n",
       "      <td>0.690864</td>\n",
       "      <td>26.012313</td>\n",
       "      <td>1.408276</td>\n",
       "      <td>0.334906</td>\n",
       "      <td>0.192481</td>\n",
       "      <td>0.180017</td>\n",
       "      <td>0.063080</td>\n",
       "      <td>1.936656</td>\n",
       "      <td>1.680525</td>\n",
       "    </tr>\n",
       "    <tr>\n",
       "      <th>min</th>\n",
       "      <td>0.00000</td>\n",
       "      <td>0.000000</td>\n",
       "      <td>0.000000</td>\n",
       "      <td>0.000000</td>\n",
       "      <td>0.000000</td>\n",
       "      <td>0.000000</td>\n",
       "      <td>0.000000</td>\n",
       "      <td>0.000000</td>\n",
       "      <td>0.000000</td>\n",
       "      <td>0.000000</td>\n",
       "      <td>0.000000</td>\n",
       "      <td>0.000000</td>\n",
       "      <td>1.000000</td>\n",
       "    </tr>\n",
       "    <tr>\n",
       "      <th>25%</th>\n",
       "      <td>2601.50000</td>\n",
       "      <td>68.000000</td>\n",
       "      <td>7.558488</td>\n",
       "      <td>10.000000</td>\n",
       "      <td>4.000000</td>\n",
       "      <td>20.298893</td>\n",
       "      <td>10.590660</td>\n",
       "      <td>2.530000</td>\n",
       "      <td>1.672500</td>\n",
       "      <td>0.864000</td>\n",
       "      <td>0.476196</td>\n",
       "      <td>0.814800</td>\n",
       "      <td>3.000000</td>\n",
       "    </tr>\n",
       "    <tr>\n",
       "      <th>50%</th>\n",
       "      <td>5203.00000</td>\n",
       "      <td>100.000000</td>\n",
       "      <td>10.650000</td>\n",
       "      <td>12.600000</td>\n",
       "      <td>4.714286</td>\n",
       "      <td>26.203827</td>\n",
       "      <td>11.202760</td>\n",
       "      <td>2.706000</td>\n",
       "      <td>1.732727</td>\n",
       "      <td>0.915556</td>\n",
       "      <td>0.488550</td>\n",
       "      <td>1.351550</td>\n",
       "      <td>5.500000</td>\n",
       "    </tr>\n",
       "    <tr>\n",
       "      <th>75%</th>\n",
       "      <td>7804.50000</td>\n",
       "      <td>131.000000</td>\n",
       "      <td>16.676996</td>\n",
       "      <td>22.000000</td>\n",
       "      <td>4.800000</td>\n",
       "      <td>48.719500</td>\n",
       "      <td>11.670725</td>\n",
       "      <td>2.805000</td>\n",
       "      <td>1.800000</td>\n",
       "      <td>0.981667</td>\n",
       "      <td>0.496070</td>\n",
       "      <td>2.741550</td>\n",
       "      <td>6.000000</td>\n",
       "    </tr>\n",
       "    <tr>\n",
       "      <th>max</th>\n",
       "      <td>10406.00000</td>\n",
       "      <td>15300.000000</td>\n",
       "      <td>643.093804</td>\n",
       "      <td>67.000000</td>\n",
       "      <td>6.000000</td>\n",
       "      <td>167.400000</td>\n",
       "      <td>15.245810</td>\n",
       "      <td>3.443000</td>\n",
       "      <td>2.250000</td>\n",
       "      <td>1.615840</td>\n",
       "      <td>0.825990</td>\n",
       "      <td>10.970000</td>\n",
       "      <td>10.000000</td>\n",
       "    </tr>\n",
       "  </tbody>\n",
       "</table>\n",
       "</div>"
      ],
      "text/plain": [
       "                id  allelectrons_Total  density_Total  allelectrons_Average  \\\n",
       "count  10407.00000        10407.000000   10407.000000          10407.000000   \n",
       "mean    5203.00000          128.053516      14.491342             17.033222   \n",
       "std     3004.38646          224.123776      15.972877             10.468734   \n",
       "min        0.00000            0.000000       0.000000              0.000000   \n",
       "25%     2601.50000           68.000000       7.558488             10.000000   \n",
       "50%     5203.00000          100.000000      10.650000             12.600000   \n",
       "75%     7804.50000          131.000000      16.676996             22.000000   \n",
       "max    10406.00000        15300.000000     643.093804             67.000000   \n",
       "\n",
       "       val_e_Average  atomicweight_Average  ionenergy_Average  \\\n",
       "count   10407.000000          10407.000000       10407.000000   \n",
       "mean        4.546789             37.507703          10.938308   \n",
       "std         0.690864             26.012313           1.408276   \n",
       "min         0.000000              0.000000           0.000000   \n",
       "25%         4.000000             20.298893          10.590660   \n",
       "50%         4.714286             26.203827          11.202760   \n",
       "75%         4.800000             48.719500          11.670725   \n",
       "max         6.000000            167.400000          15.245810   \n",
       "\n",
       "       el_neg_chi_Average  R_vdw_element_Average  R_cov_element_Average  \\\n",
       "count        10407.000000           10407.000000           10407.000000   \n",
       "mean             2.607662               1.731330               0.944132   \n",
       "std              0.334906               0.192481               0.180017   \n",
       "min              0.000000               0.000000               0.000000   \n",
       "25%              2.530000               1.672500               0.864000   \n",
       "50%              2.706000               1.732727               0.915556   \n",
       "75%              2.805000               1.800000               0.981667   \n",
       "max              3.443000               2.250000               1.615840   \n",
       "\n",
       "       zaratio_Average  density_Average      Hardness  \n",
       "count     10407.000000     10407.000000  10407.000000  \n",
       "mean          0.493349         2.132984      4.647126  \n",
       "std           0.063080         1.936656      1.680525  \n",
       "min           0.000000         0.000000      1.000000  \n",
       "25%           0.476196         0.814800      3.000000  \n",
       "50%           0.488550         1.351550      5.500000  \n",
       "75%           0.496070         2.741550      6.000000  \n",
       "max           0.825990        10.970000     10.000000  "
      ]
     },
     "execution_count": 5,
     "metadata": {},
     "output_type": "execute_result"
    }
   ],
   "source": [
    "print('dimensions: ', df.shape, end='\\n\\n')\n",
    "print(df.columns, end='\\n\\n')\n",
    "print('types of columns:\\n',df.dtypes, end='\\n\\n', sep='')\n",
    "print('missing values:\\n', df.isnull().sum().to_string(), end='\\n\\n', sep='')\n",
    "df.describe()"
   ]
  },
  {
   "cell_type": "code",
   "execution_count": 6,
   "id": "963bc390",
   "metadata": {
    "execution": {
     "iopub.execute_input": "2024-07-21T20:30:30.948225Z",
     "iopub.status.busy": "2024-07-21T20:30:30.947837Z",
     "iopub.status.idle": "2024-07-21T20:30:32.346244Z",
     "shell.execute_reply": "2024-07-21T20:30:32.345102Z"
    },
    "papermill": {
     "duration": 1.409985,
     "end_time": "2024-07-21T20:30:32.348965",
     "exception": false,
     "start_time": "2024-07-21T20:30:30.938980",
     "status": "completed"
    },
    "tags": []
   },
   "outputs": [
    {
     "name": "stdout",
     "output_type": "stream",
     "text": [
      "Train: 6243 samples \t 60%\n",
      "Test:  2082 samples \t 20%\n",
      "Val:   2082 samples \t 20%\n"
     ]
    }
   ],
   "source": [
    "y = df['Hardness']\n",
    "X = df.drop(columns=['Hardness', 'id'])\n",
    "\n",
    "from sklearn.model_selection import train_test_split\n",
    "\n",
    "X_train, X_test, y_train, y_test = train_test_split(X, y,\n",
    "                                                    train_size=0.8,\n",
    "                                                    random_state=42)\n",
    "\n",
    "X_train, X_val, y_train, y_val = train_test_split(X_train, y_train,\n",
    "                                                  train_size=0.75,\n",
    "                                                  random_state=42)\n",
    "\n",
    "print(f'Train: {X_train.shape[0]} samples \\t {round(X_train.shape[0] / X.shape[0] * 100)}%')\n",
    "print(f'Test:  {X_test.shape[0]} samples \\t {round(X_test.shape[0] / X.shape[0] * 100)}%')\n",
    "print(f'Val:   {X_val.shape[0]} samples \\t {round(X_val.shape[0] / X.shape[0] * 100)}%')"
   ]
  },
  {
   "cell_type": "code",
   "execution_count": 7,
   "id": "0b88646d",
   "metadata": {
    "execution": {
     "iopub.execute_input": "2024-07-21T20:30:32.366721Z",
     "iopub.status.busy": "2024-07-21T20:30:32.366290Z",
     "iopub.status.idle": "2024-07-21T20:30:32.677470Z",
     "shell.execute_reply": "2024-07-21T20:30:32.676324Z"
    },
    "papermill": {
     "duration": 0.323292,
     "end_time": "2024-07-21T20:30:32.680103",
     "exception": false,
     "start_time": "2024-07-21T20:30:32.356811",
     "status": "completed"
    },
    "tags": []
   },
   "outputs": [
    {
     "data": {
      "text/html": [
       "<style>#sk-container-id-1 {color: black;background-color: white;}#sk-container-id-1 pre{padding: 0;}#sk-container-id-1 div.sk-toggleable {background-color: white;}#sk-container-id-1 label.sk-toggleable__label {cursor: pointer;display: block;width: 100%;margin-bottom: 0;padding: 0.3em;box-sizing: border-box;text-align: center;}#sk-container-id-1 label.sk-toggleable__label-arrow:before {content: \"▸\";float: left;margin-right: 0.25em;color: #696969;}#sk-container-id-1 label.sk-toggleable__label-arrow:hover:before {color: black;}#sk-container-id-1 div.sk-estimator:hover label.sk-toggleable__label-arrow:before {color: black;}#sk-container-id-1 div.sk-toggleable__content {max-height: 0;max-width: 0;overflow: hidden;text-align: left;background-color: #f0f8ff;}#sk-container-id-1 div.sk-toggleable__content pre {margin: 0.2em;color: black;border-radius: 0.25em;background-color: #f0f8ff;}#sk-container-id-1 input.sk-toggleable__control:checked~div.sk-toggleable__content {max-height: 200px;max-width: 100%;overflow: auto;}#sk-container-id-1 input.sk-toggleable__control:checked~label.sk-toggleable__label-arrow:before {content: \"▾\";}#sk-container-id-1 div.sk-estimator input.sk-toggleable__control:checked~label.sk-toggleable__label {background-color: #d4ebff;}#sk-container-id-1 div.sk-label input.sk-toggleable__control:checked~label.sk-toggleable__label {background-color: #d4ebff;}#sk-container-id-1 input.sk-hidden--visually {border: 0;clip: rect(1px 1px 1px 1px);clip: rect(1px, 1px, 1px, 1px);height: 1px;margin: -1px;overflow: hidden;padding: 0;position: absolute;width: 1px;}#sk-container-id-1 div.sk-estimator {font-family: monospace;background-color: #f0f8ff;border: 1px dotted black;border-radius: 0.25em;box-sizing: border-box;margin-bottom: 0.5em;}#sk-container-id-1 div.sk-estimator:hover {background-color: #d4ebff;}#sk-container-id-1 div.sk-parallel-item::after {content: \"\";width: 100%;border-bottom: 1px solid gray;flex-grow: 1;}#sk-container-id-1 div.sk-label:hover label.sk-toggleable__label {background-color: #d4ebff;}#sk-container-id-1 div.sk-serial::before {content: \"\";position: absolute;border-left: 1px solid gray;box-sizing: border-box;top: 0;bottom: 0;left: 50%;z-index: 0;}#sk-container-id-1 div.sk-serial {display: flex;flex-direction: column;align-items: center;background-color: white;padding-right: 0.2em;padding-left: 0.2em;position: relative;}#sk-container-id-1 div.sk-item {position: relative;z-index: 1;}#sk-container-id-1 div.sk-parallel {display: flex;align-items: stretch;justify-content: center;background-color: white;position: relative;}#sk-container-id-1 div.sk-item::before, #sk-container-id-1 div.sk-parallel-item::before {content: \"\";position: absolute;border-left: 1px solid gray;box-sizing: border-box;top: 0;bottom: 0;left: 50%;z-index: -1;}#sk-container-id-1 div.sk-parallel-item {display: flex;flex-direction: column;z-index: 1;position: relative;background-color: white;}#sk-container-id-1 div.sk-parallel-item:first-child::after {align-self: flex-end;width: 50%;}#sk-container-id-1 div.sk-parallel-item:last-child::after {align-self: flex-start;width: 50%;}#sk-container-id-1 div.sk-parallel-item:only-child::after {width: 0;}#sk-container-id-1 div.sk-dashed-wrapped {border: 1px dashed gray;margin: 0 0.4em 0.5em 0.4em;box-sizing: border-box;padding-bottom: 0.4em;background-color: white;}#sk-container-id-1 div.sk-label label {font-family: monospace;font-weight: bold;display: inline-block;line-height: 1.2em;}#sk-container-id-1 div.sk-label-container {text-align: center;}#sk-container-id-1 div.sk-container {/* jupyter's `normalize.less` sets `[hidden] { display: none; }` but bootstrap.min.css set `[hidden] { display: none !important; }` so we also need the `!important` here to be able to override the default hidden behavior on the sphinx rendered scikit-learn.org. See: https://github.com/scikit-learn/scikit-learn/issues/21755 */display: inline-block !important;position: relative;}#sk-container-id-1 div.sk-text-repr-fallback {display: none;}</style><div id=\"sk-container-id-1\" class=\"sk-top-container\"><div class=\"sk-text-repr-fallback\"><pre>ColumnTransformer(transformers=[(&#x27;num&#x27;,\n",
       "                                 Pipeline(steps=[(&#x27;imputer&#x27;,\n",
       "                                                  SimpleImputer(strategy=&#x27;median&#x27;))]),\n",
       "                                 Index([&#x27;allelectrons_Total&#x27;, &#x27;density_Total&#x27;, &#x27;allelectrons_Average&#x27;,\n",
       "       &#x27;val_e_Average&#x27;, &#x27;atomicweight_Average&#x27;, &#x27;ionenergy_Average&#x27;,\n",
       "       &#x27;el_neg_chi_Average&#x27;, &#x27;R_vdw_element_Average&#x27;, &#x27;R_cov_element_Average&#x27;,\n",
       "       &#x27;zaratio_Average&#x27;, &#x27;density_Average&#x27;],\n",
       "      dtype=&#x27;object&#x27;)),\n",
       "                                (&#x27;cat&#x27;,\n",
       "                                 Pipeline(steps=[(&#x27;imputer&#x27;,\n",
       "                                                  SimpleImputer(strategy=&#x27;most_frequent&#x27;)),\n",
       "                                                 (&#x27;encoder&#x27;,\n",
       "                                                  OneHotEncoder(handle_unknown=&#x27;ignore&#x27;,\n",
       "                                                                sparse_output=False))]),\n",
       "                                 Index([], dtype=&#x27;object&#x27;))])</pre><b>In a Jupyter environment, please rerun this cell to show the HTML representation or trust the notebook. <br />On GitHub, the HTML representation is unable to render, please try loading this page with nbviewer.org.</b></div><div class=\"sk-container\" hidden><div class=\"sk-item sk-dashed-wrapped\"><div class=\"sk-label-container\"><div class=\"sk-label sk-toggleable\"><input class=\"sk-toggleable__control sk-hidden--visually\" id=\"sk-estimator-id-1\" type=\"checkbox\" ><label for=\"sk-estimator-id-1\" class=\"sk-toggleable__label sk-toggleable__label-arrow\">ColumnTransformer</label><div class=\"sk-toggleable__content\"><pre>ColumnTransformer(transformers=[(&#x27;num&#x27;,\n",
       "                                 Pipeline(steps=[(&#x27;imputer&#x27;,\n",
       "                                                  SimpleImputer(strategy=&#x27;median&#x27;))]),\n",
       "                                 Index([&#x27;allelectrons_Total&#x27;, &#x27;density_Total&#x27;, &#x27;allelectrons_Average&#x27;,\n",
       "       &#x27;val_e_Average&#x27;, &#x27;atomicweight_Average&#x27;, &#x27;ionenergy_Average&#x27;,\n",
       "       &#x27;el_neg_chi_Average&#x27;, &#x27;R_vdw_element_Average&#x27;, &#x27;R_cov_element_Average&#x27;,\n",
       "       &#x27;zaratio_Average&#x27;, &#x27;density_Average&#x27;],\n",
       "      dtype=&#x27;object&#x27;)),\n",
       "                                (&#x27;cat&#x27;,\n",
       "                                 Pipeline(steps=[(&#x27;imputer&#x27;,\n",
       "                                                  SimpleImputer(strategy=&#x27;most_frequent&#x27;)),\n",
       "                                                 (&#x27;encoder&#x27;,\n",
       "                                                  OneHotEncoder(handle_unknown=&#x27;ignore&#x27;,\n",
       "                                                                sparse_output=False))]),\n",
       "                                 Index([], dtype=&#x27;object&#x27;))])</pre></div></div></div><div class=\"sk-parallel\"><div class=\"sk-parallel-item\"><div class=\"sk-item\"><div class=\"sk-label-container\"><div class=\"sk-label sk-toggleable\"><input class=\"sk-toggleable__control sk-hidden--visually\" id=\"sk-estimator-id-2\" type=\"checkbox\" ><label for=\"sk-estimator-id-2\" class=\"sk-toggleable__label sk-toggleable__label-arrow\">num</label><div class=\"sk-toggleable__content\"><pre>Index([&#x27;allelectrons_Total&#x27;, &#x27;density_Total&#x27;, &#x27;allelectrons_Average&#x27;,\n",
       "       &#x27;val_e_Average&#x27;, &#x27;atomicweight_Average&#x27;, &#x27;ionenergy_Average&#x27;,\n",
       "       &#x27;el_neg_chi_Average&#x27;, &#x27;R_vdw_element_Average&#x27;, &#x27;R_cov_element_Average&#x27;,\n",
       "       &#x27;zaratio_Average&#x27;, &#x27;density_Average&#x27;],\n",
       "      dtype=&#x27;object&#x27;)</pre></div></div></div><div class=\"sk-serial\"><div class=\"sk-item\"><div class=\"sk-serial\"><div class=\"sk-item\"><div class=\"sk-estimator sk-toggleable\"><input class=\"sk-toggleable__control sk-hidden--visually\" id=\"sk-estimator-id-3\" type=\"checkbox\" ><label for=\"sk-estimator-id-3\" class=\"sk-toggleable__label sk-toggleable__label-arrow\">SimpleImputer</label><div class=\"sk-toggleable__content\"><pre>SimpleImputer(strategy=&#x27;median&#x27;)</pre></div></div></div></div></div></div></div></div><div class=\"sk-parallel-item\"><div class=\"sk-item\"><div class=\"sk-label-container\"><div class=\"sk-label sk-toggleable\"><input class=\"sk-toggleable__control sk-hidden--visually\" id=\"sk-estimator-id-4\" type=\"checkbox\" ><label for=\"sk-estimator-id-4\" class=\"sk-toggleable__label sk-toggleable__label-arrow\">cat</label><div class=\"sk-toggleable__content\"><pre>Index([], dtype=&#x27;object&#x27;)</pre></div></div></div><div class=\"sk-serial\"><div class=\"sk-item\"><div class=\"sk-serial\"><div class=\"sk-item\"><div class=\"sk-estimator sk-toggleable\"><input class=\"sk-toggleable__control sk-hidden--visually\" id=\"sk-estimator-id-5\" type=\"checkbox\" ><label for=\"sk-estimator-id-5\" class=\"sk-toggleable__label sk-toggleable__label-arrow\">SimpleImputer</label><div class=\"sk-toggleable__content\"><pre>SimpleImputer(strategy=&#x27;most_frequent&#x27;)</pre></div></div></div><div class=\"sk-item\"><div class=\"sk-estimator sk-toggleable\"><input class=\"sk-toggleable__control sk-hidden--visually\" id=\"sk-estimator-id-6\" type=\"checkbox\" ><label for=\"sk-estimator-id-6\" class=\"sk-toggleable__label sk-toggleable__label-arrow\">OneHotEncoder</label><div class=\"sk-toggleable__content\"><pre>OneHotEncoder(handle_unknown=&#x27;ignore&#x27;, sparse_output=False)</pre></div></div></div></div></div></div></div></div></div></div></div></div>"
      ],
      "text/plain": [
       "ColumnTransformer(transformers=[('num',\n",
       "                                 Pipeline(steps=[('imputer',\n",
       "                                                  SimpleImputer(strategy='median'))]),\n",
       "                                 Index(['allelectrons_Total', 'density_Total', 'allelectrons_Average',\n",
       "       'val_e_Average', 'atomicweight_Average', 'ionenergy_Average',\n",
       "       'el_neg_chi_Average', 'R_vdw_element_Average', 'R_cov_element_Average',\n",
       "       'zaratio_Average', 'density_Average'],\n",
       "      dtype='object')),\n",
       "                                ('cat',\n",
       "                                 Pipeline(steps=[('imputer',\n",
       "                                                  SimpleImputer(strategy='most_frequent')),\n",
       "                                                 ('encoder',\n",
       "                                                  OneHotEncoder(handle_unknown='ignore',\n",
       "                                                                sparse_output=False))]),\n",
       "                                 Index([], dtype='object'))])"
      ]
     },
     "execution_count": 7,
     "metadata": {},
     "output_type": "execute_result"
    }
   ],
   "source": [
    "from sklearn.compose import ColumnTransformer\n",
    "from sklearn.pipeline import Pipeline\n",
    "from sklearn.impute import SimpleImputer\n",
    "from sklearn.preprocessing import OneHotEncoder\n",
    "\n",
    "num_columns = X.select_dtypes(include=\"number\").columns\n",
    "cat_columns = X.select_dtypes(include=\"object\").columns\n",
    "\n",
    "# числові ознаки\n",
    "num_transformer = Pipeline(\n",
    "    steps=[(\"imputer\", SimpleImputer(strategy=\"median\"))]\n",
    "    )\n",
    "\n",
    "# категоріальні ознаки\n",
    "cat_transformer = Pipeline(\n",
    "    steps=[(\"imputer\", SimpleImputer(strategy=\"most_frequent\")),\n",
    "           (\"encoder\", OneHotEncoder(sparse_output=False, handle_unknown='ignore'))\n",
    "           ])\n",
    "\n",
    "# об'єднання двох pipeline\n",
    "preprocessor = ColumnTransformer(\n",
    "    transformers=[\n",
    "        (\"num\", num_transformer, num_columns),\n",
    "        (\"cat\", cat_transformer, cat_columns),\n",
    "    ]\n",
    ")\n",
    "\n",
    "preprocessor.set_output(transform='pandas')\n",
    "preprocessor\n"
   ]
  },
  {
   "cell_type": "code",
   "execution_count": 8,
   "id": "e81db4a4",
   "metadata": {
    "execution": {
     "iopub.execute_input": "2024-07-21T20:30:32.698938Z",
     "iopub.status.busy": "2024-07-21T20:30:32.698545Z",
     "iopub.status.idle": "2024-07-21T20:30:32.728345Z",
     "shell.execute_reply": "2024-07-21T20:30:32.727111Z"
    },
    "papermill": {
     "duration": 0.042629,
     "end_time": "2024-07-21T20:30:32.731181",
     "exception": false,
     "start_time": "2024-07-21T20:30:32.688552",
     "status": "completed"
    },
    "tags": []
   },
   "outputs": [],
   "source": [
    "# навчання препроцесора\n",
    "X_train = preprocessor.fit_transform(X_train)\n",
    "\n",
    "\n",
    "# обробка даних\n",
    "X_val = preprocessor.transform(X_val)\n",
    "X_test = preprocessor.transform(X_test)"
   ]
  },
  {
   "cell_type": "code",
   "execution_count": 9,
   "id": "618e2a99",
   "metadata": {
    "execution": {
     "iopub.execute_input": "2024-07-21T20:30:32.749403Z",
     "iopub.status.busy": "2024-07-21T20:30:32.748993Z",
     "iopub.status.idle": "2024-07-21T20:30:32.760295Z",
     "shell.execute_reply": "2024-07-21T20:30:32.759113Z"
    },
    "papermill": {
     "duration": 0.02337,
     "end_time": "2024-07-21T20:30:32.762852",
     "exception": false,
     "start_time": "2024-07-21T20:30:32.739482",
     "status": "completed"
    },
    "tags": []
   },
   "outputs": [],
   "source": [
    "from sklearn import metrics\n",
    "\n",
    "\n",
    "def objective(trial):\n",
    "  \"\"\"\n",
    "  Функція objective для Optuna, яка навчає модель LightGBMRegressor\n",
    "  на тренувальному наборі даних та оцінює її на тестовому наборі.\n",
    "\n",
    "  Args:\n",
    "      trial (optuna.Trial): Об'єкт Optuna, що представляє один набір гіперпараметрів.\n",
    "\n",
    "  Returns:\n",
    "      float: Значення метрики оцінки (R2).\n",
    "  \"\"\"\n",
    "\n",
    "  # 1. Визначення гіперпараметрів:\n",
    "\n",
    "  params = {\n",
    "        'objective': 'mse',\n",
    "        'n_estimator': 30,\n",
    "        'verbose': -1,\n",
    "        'boosting_type': trial.suggest_categorical('boosting_type', ['gbdt', 'dart']),\n",
    "        'lambda_l1': trial.suggest_float('lambda_l1', 1e-8, 10.0, log=True),\n",
    "        'lambda_l2': trial.suggest_float('lambda_l2', 1e-8, 10.0, log=True),\n",
    "        'num_leaves': trial.suggest_int('num_leaves', 2, 256),\n",
    "        'feature_fraction': trial.suggest_float('feature_fraction', 0.4, 1.0),\n",
    "        'bagging_fraction': trial.suggest_float('bagging_fraction', 0.4, 1.0),\n",
    "        'bagging_freq': trial.suggest_int('bagging_freq', 1, 7),\n",
    "        'min_child_samples': trial.suggest_int('min_child_samples', 5, 100),\n",
    "    }\n",
    "\n",
    "  # 2. Створення моделі LightGBMRegressor:\n",
    "\n",
    "  model = lgb.LGBMRegressor(**params)\n",
    "\n",
    "  # 3. Навчання моделі на тренувальному наборі даних:\n",
    "\n",
    "  model.fit(X_train, y_train)\n",
    "\n",
    "  # 4. Оцінка моделі на тестовому наборі даних:\n",
    "\n",
    "  y_pred = model.predict(X_val)\n",
    "  r2 = metrics.r2_score(y_val, y_pred)\n",
    "\n",
    "  # 5. Повернення значення метрики:\n",
    "  return r2"
   ]
  },
  {
   "cell_type": "code",
   "execution_count": 10,
   "id": "0c3f287b",
   "metadata": {
    "execution": {
     "iopub.execute_input": "2024-07-21T20:30:32.781306Z",
     "iopub.status.busy": "2024-07-21T20:30:32.780854Z",
     "iopub.status.idle": "2024-07-21T20:30:40.064631Z",
     "shell.execute_reply": "2024-07-21T20:30:40.063353Z"
    },
    "papermill": {
     "duration": 7.296254,
     "end_time": "2024-07-21T20:30:40.067548",
     "exception": false,
     "start_time": "2024-07-21T20:30:32.771294",
     "status": "completed"
    },
    "tags": []
   },
   "outputs": [],
   "source": [
    "import lightgbm as lgb\n",
    "import optuna\n",
    "\n",
    "optuna.logging.set_verbosity(optuna.logging.WARNING) # щоб не виводило інформацію про trial\n",
    "\n",
    "study = optuna.create_study(direction='maximize')\n",
    "study.optimize(objective, n_trials=10)"
   ]
  },
  {
   "cell_type": "code",
   "execution_count": 11,
   "id": "1d03420e",
   "metadata": {
    "execution": {
     "iopub.execute_input": "2024-07-21T20:30:40.086024Z",
     "iopub.status.busy": "2024-07-21T20:30:40.085433Z",
     "iopub.status.idle": "2024-07-21T20:30:40.091831Z",
     "shell.execute_reply": "2024-07-21T20:30:40.090677Z"
    },
    "papermill": {
     "duration": 0.018231,
     "end_time": "2024-07-21T20:30:40.094107",
     "exception": false,
     "start_time": "2024-07-21T20:30:40.075876",
     "status": "completed"
    },
    "tags": []
   },
   "outputs": [
    {
     "name": "stdout",
     "output_type": "stream",
     "text": [
      "найкраща метрика: 0.4703510296161061\n"
     ]
    }
   ],
   "source": [
    "print(f\"найкраща метрика: {study.best_value}\")"
   ]
  },
  {
   "cell_type": "code",
   "execution_count": 12,
   "id": "6eb9c45a",
   "metadata": {
    "execution": {
     "iopub.execute_input": "2024-07-21T20:30:40.112796Z",
     "iopub.status.busy": "2024-07-21T20:30:40.112384Z",
     "iopub.status.idle": "2024-07-21T20:30:40.434755Z",
     "shell.execute_reply": "2024-07-21T20:30:40.433579Z"
    },
    "papermill": {
     "duration": 0.334788,
     "end_time": "2024-07-21T20:30:40.437140",
     "exception": false,
     "start_time": "2024-07-21T20:30:40.102352",
     "status": "completed"
    },
    "tags": []
   },
   "outputs": [
    {
     "data": {
      "text/html": [
       "<style>#sk-container-id-2 {color: black;background-color: white;}#sk-container-id-2 pre{padding: 0;}#sk-container-id-2 div.sk-toggleable {background-color: white;}#sk-container-id-2 label.sk-toggleable__label {cursor: pointer;display: block;width: 100%;margin-bottom: 0;padding: 0.3em;box-sizing: border-box;text-align: center;}#sk-container-id-2 label.sk-toggleable__label-arrow:before {content: \"▸\";float: left;margin-right: 0.25em;color: #696969;}#sk-container-id-2 label.sk-toggleable__label-arrow:hover:before {color: black;}#sk-container-id-2 div.sk-estimator:hover label.sk-toggleable__label-arrow:before {color: black;}#sk-container-id-2 div.sk-toggleable__content {max-height: 0;max-width: 0;overflow: hidden;text-align: left;background-color: #f0f8ff;}#sk-container-id-2 div.sk-toggleable__content pre {margin: 0.2em;color: black;border-radius: 0.25em;background-color: #f0f8ff;}#sk-container-id-2 input.sk-toggleable__control:checked~div.sk-toggleable__content {max-height: 200px;max-width: 100%;overflow: auto;}#sk-container-id-2 input.sk-toggleable__control:checked~label.sk-toggleable__label-arrow:before {content: \"▾\";}#sk-container-id-2 div.sk-estimator input.sk-toggleable__control:checked~label.sk-toggleable__label {background-color: #d4ebff;}#sk-container-id-2 div.sk-label input.sk-toggleable__control:checked~label.sk-toggleable__label {background-color: #d4ebff;}#sk-container-id-2 input.sk-hidden--visually {border: 0;clip: rect(1px 1px 1px 1px);clip: rect(1px, 1px, 1px, 1px);height: 1px;margin: -1px;overflow: hidden;padding: 0;position: absolute;width: 1px;}#sk-container-id-2 div.sk-estimator {font-family: monospace;background-color: #f0f8ff;border: 1px dotted black;border-radius: 0.25em;box-sizing: border-box;margin-bottom: 0.5em;}#sk-container-id-2 div.sk-estimator:hover {background-color: #d4ebff;}#sk-container-id-2 div.sk-parallel-item::after {content: \"\";width: 100%;border-bottom: 1px solid gray;flex-grow: 1;}#sk-container-id-2 div.sk-label:hover label.sk-toggleable__label {background-color: #d4ebff;}#sk-container-id-2 div.sk-serial::before {content: \"\";position: absolute;border-left: 1px solid gray;box-sizing: border-box;top: 0;bottom: 0;left: 50%;z-index: 0;}#sk-container-id-2 div.sk-serial {display: flex;flex-direction: column;align-items: center;background-color: white;padding-right: 0.2em;padding-left: 0.2em;position: relative;}#sk-container-id-2 div.sk-item {position: relative;z-index: 1;}#sk-container-id-2 div.sk-parallel {display: flex;align-items: stretch;justify-content: center;background-color: white;position: relative;}#sk-container-id-2 div.sk-item::before, #sk-container-id-2 div.sk-parallel-item::before {content: \"\";position: absolute;border-left: 1px solid gray;box-sizing: border-box;top: 0;bottom: 0;left: 50%;z-index: -1;}#sk-container-id-2 div.sk-parallel-item {display: flex;flex-direction: column;z-index: 1;position: relative;background-color: white;}#sk-container-id-2 div.sk-parallel-item:first-child::after {align-self: flex-end;width: 50%;}#sk-container-id-2 div.sk-parallel-item:last-child::after {align-self: flex-start;width: 50%;}#sk-container-id-2 div.sk-parallel-item:only-child::after {width: 0;}#sk-container-id-2 div.sk-dashed-wrapped {border: 1px dashed gray;margin: 0 0.4em 0.5em 0.4em;box-sizing: border-box;padding-bottom: 0.4em;background-color: white;}#sk-container-id-2 div.sk-label label {font-family: monospace;font-weight: bold;display: inline-block;line-height: 1.2em;}#sk-container-id-2 div.sk-label-container {text-align: center;}#sk-container-id-2 div.sk-container {/* jupyter's `normalize.less` sets `[hidden] { display: none; }` but bootstrap.min.css set `[hidden] { display: none !important; }` so we also need the `!important` here to be able to override the default hidden behavior on the sphinx rendered scikit-learn.org. See: https://github.com/scikit-learn/scikit-learn/issues/21755 */display: inline-block !important;position: relative;}#sk-container-id-2 div.sk-text-repr-fallback {display: none;}</style><div id=\"sk-container-id-2\" class=\"sk-top-container\"><div class=\"sk-text-repr-fallback\"><pre>LGBMRegressor(bagging_fraction=0.8735845638537243, bagging_freq=3,\n",
       "              feature_fraction=0.5893591198290036,\n",
       "              lambda_l1=2.1085905423234376e-05, lambda_l2=0.002255320084383841,\n",
       "              min_child_samples=80, n_estimator=100, num_leaves=159,\n",
       "              verbose=-1)</pre><b>In a Jupyter environment, please rerun this cell to show the HTML representation or trust the notebook. <br />On GitHub, the HTML representation is unable to render, please try loading this page with nbviewer.org.</b></div><div class=\"sk-container\" hidden><div class=\"sk-item\"><div class=\"sk-estimator sk-toggleable\"><input class=\"sk-toggleable__control sk-hidden--visually\" id=\"sk-estimator-id-7\" type=\"checkbox\" checked><label for=\"sk-estimator-id-7\" class=\"sk-toggleable__label sk-toggleable__label-arrow\">LGBMRegressor</label><div class=\"sk-toggleable__content\"><pre>LGBMRegressor(bagging_fraction=0.8735845638537243, bagging_freq=3,\n",
       "              feature_fraction=0.5893591198290036,\n",
       "              lambda_l1=2.1085905423234376e-05, lambda_l2=0.002255320084383841,\n",
       "              min_child_samples=80, n_estimator=100, num_leaves=159,\n",
       "              verbose=-1)</pre></div></div></div></div></div>"
      ],
      "text/plain": [
       "LGBMRegressor(bagging_fraction=0.8735845638537243, bagging_freq=3,\n",
       "              feature_fraction=0.5893591198290036,\n",
       "              lambda_l1=2.1085905423234376e-05, lambda_l2=0.002255320084383841,\n",
       "              min_child_samples=80, n_estimator=100, num_leaves=159,\n",
       "              verbose=-1)"
      ]
     },
     "execution_count": 12,
     "metadata": {},
     "output_type": "execute_result"
    }
   ],
   "source": [
    "best_params = study.best_params\n",
    "\n",
    "model = lgb.LGBMRegressor(**best_params,\n",
    "                          n_estimator = 100,\n",
    "                          verbose=-1)\n",
    "\n",
    "model.fit(X_train, y_train,\n",
    "          eval_set=[(X_test, y_test), (X_train, y_train)],\n",
    "          eval_metric='mae')"
   ]
  },
  {
   "cell_type": "code",
   "execution_count": 13,
   "id": "585d1df0",
   "metadata": {
    "execution": {
     "iopub.execute_input": "2024-07-21T20:30:40.455929Z",
     "iopub.status.busy": "2024-07-21T20:30:40.455504Z",
     "iopub.status.idle": "2024-07-21T20:30:40.462547Z",
     "shell.execute_reply": "2024-07-21T20:30:40.461339Z"
    },
    "papermill": {
     "duration": 0.01923,
     "end_time": "2024-07-21T20:30:40.464978",
     "exception": false,
     "start_time": "2024-07-21T20:30:40.445748",
     "status": "completed"
    },
    "tags": []
   },
   "outputs": [],
   "source": [
    "def get_metrics(y_true, y_pred, name=\"model\"):\n",
    "  df = pd.DataFrame()\n",
    "\n",
    "  df.loc[\"MAE\", name] = metrics.mean_absolute_error(y_true, y_pred)\n",
    "  df.loc[\"RMSE\", name] = metrics.mean_squared_error(y_true, y_pred) ** 0.5\n",
    "  df.loc[\"R2\", name] = metrics.r2_score(y_true, y_pred)\n",
    "\n",
    "  return df.round(2)"
   ]
  },
  {
   "cell_type": "code",
   "execution_count": 14,
   "id": "b3f5dda5",
   "metadata": {
    "execution": {
     "iopub.execute_input": "2024-07-21T20:30:40.485071Z",
     "iopub.status.busy": "2024-07-21T20:30:40.484663Z",
     "iopub.status.idle": "2024-07-21T20:30:40.623013Z",
     "shell.execute_reply": "2024-07-21T20:30:40.621902Z"
    },
    "papermill": {
     "duration": 0.151905,
     "end_time": "2024-07-21T20:30:40.625625",
     "exception": false,
     "start_time": "2024-07-21T20:30:40.473720",
     "status": "completed"
    },
    "tags": []
   },
   "outputs": [
    {
     "data": {
      "text/html": [
       "<div>\n",
       "<style scoped>\n",
       "    .dataframe tbody tr th:only-of-type {\n",
       "        vertical-align: middle;\n",
       "    }\n",
       "\n",
       "    .dataframe tbody tr th {\n",
       "        vertical-align: top;\n",
       "    }\n",
       "\n",
       "    .dataframe thead th {\n",
       "        text-align: right;\n",
       "    }\n",
       "</style>\n",
       "<table border=\"1\" class=\"dataframe\">\n",
       "  <thead>\n",
       "    <tr style=\"text-align: right;\">\n",
       "      <th></th>\n",
       "      <th>train</th>\n",
       "      <th>test</th>\n",
       "    </tr>\n",
       "  </thead>\n",
       "  <tbody>\n",
       "    <tr>\n",
       "      <th>MAE</th>\n",
       "      <td>0.71</td>\n",
       "      <td>0.90</td>\n",
       "    </tr>\n",
       "    <tr>\n",
       "      <th>RMSE</th>\n",
       "      <td>0.96</td>\n",
       "      <td>1.21</td>\n",
       "    </tr>\n",
       "    <tr>\n",
       "      <th>R2</th>\n",
       "      <td>0.68</td>\n",
       "      <td>0.46</td>\n",
       "    </tr>\n",
       "  </tbody>\n",
       "</table>\n",
       "</div>"
      ],
      "text/plain": [
       "      train  test\n",
       "MAE    0.71  0.90\n",
       "RMSE   0.96  1.21\n",
       "R2     0.68  0.46"
      ]
     },
     "execution_count": 14,
     "metadata": {},
     "output_type": "execute_result"
    }
   ],
   "source": [
    "all_metrics = pd.DataFrame()\n",
    "\n",
    "all_metrics[\"train\"] = get_metrics(y_train, model.predict(X_train))\n",
    "all_metrics[\"test\"] = get_metrics(y_test, model.predict(X_test))\n",
    "\n",
    "all_metrics"
   ]
  },
  {
   "cell_type": "code",
   "execution_count": 15,
   "id": "86c580f3",
   "metadata": {
    "execution": {
     "iopub.execute_input": "2024-07-21T20:30:40.644771Z",
     "iopub.status.busy": "2024-07-21T20:30:40.644381Z",
     "iopub.status.idle": "2024-07-21T20:30:41.080755Z",
     "shell.execute_reply": "2024-07-21T20:30:41.079510Z"
    },
    "papermill": {
     "duration": 0.449046,
     "end_time": "2024-07-21T20:30:41.083430",
     "exception": false,
     "start_time": "2024-07-21T20:30:40.634384",
     "status": "completed"
    },
    "tags": []
   },
   "outputs": [
    {
     "data": {
      "text/plain": [
       "<Axes: title={'center': 'Metric during training'}, xlabel='Iterations', ylabel='l1'>"
      ]
     },
     "execution_count": 15,
     "metadata": {},
     "output_type": "execute_result"
    },
    {
     "data": {
      "image/png": "[encoded data removed]",
      "text/plain": [
       "<Figure size 640x480 with 1 Axes>"
      ]
     },
     "metadata": {},
     "output_type": "display_data"
    }
   ],
   "source": [
    "lgb.plot_metric(model,\n",
    "                metric='l1')"
   ]
  },
  {
   "cell_type": "code",
   "execution_count": 16,
   "id": "e17eb287",
   "metadata": {
    "execution": {
     "iopub.execute_input": "2024-07-21T20:30:41.104377Z",
     "iopub.status.busy": "2024-07-21T20:30:41.103942Z",
     "iopub.status.idle": "2024-07-21T20:30:41.564400Z",
     "shell.execute_reply": "2024-07-21T20:30:41.563128Z"
    },
    "papermill": {
     "duration": 0.474106,
     "end_time": "2024-07-21T20:30:41.567228",
     "exception": false,
     "start_time": "2024-07-21T20:30:41.093122",
     "status": "completed"
    },
    "tags": []
   },
   "outputs": [
    {
     "data": {
      "text/plain": [
       "<Axes: title={'center': 'Feature importance'}, xlabel='Feature importance', ylabel='Features'>"
      ]
     },
     "execution_count": 16,
     "metadata": {},
     "output_type": "execute_result"
    },
    {
     "data": {
      "image/png": "[encoded data removed]",
      "text/plain": [
       "<Figure size 1600x1000 with 1 Axes>"
      ]
     },
     "metadata": {},
     "output_type": "display_data"
    }
   ],
   "source": [
    "lgb.plot_importance(model, figsize=(16,10), max_num_features=40)"
   ]
  }
 ],
 "metadata": {
  "kaggle": {
   "accelerator": "none",
   "dataSources": [
    {
     "databundleVersionId": 6989718,
     "sourceId": 60892,
     "sourceType": "competition"
    }
   ],
   "dockerImageVersionId": 30746,
   "isGpuEnabled": false,
   "isInternetEnabled": true,
   "language": "python",
   "sourceType": "notebook"
  },
  "kernelspec": {
   "display_name": "Python 3",
   "language": "python",
   "name": "python3"
  },
  "language_info": {
   "codemirror_mode": {
    "name": "ipython",
    "version": 3
   },
   "file_extension": ".py",
   "mimetype": "text/x-python",
   "name": "python",
   "nbconvert_exporter": "python",
   "pygments_lexer": "ipython3",
   "version": "3.10.13"
  },
  "papermill": {
   "default_parameters": {},
   "duration": 15.91179,
   "end_time": "2024-07-21T20:30:42.401064",
   "environment_variables": {},
   "exception": null,
   "input_path": "__notebook__.ipynb",
   "output_path": "__notebook__.ipynb",
   "parameters": {},
   "start_time": "2024-07-21T20:30:26.489274",
   "version": "2.5.0"
  }
 },
 "nbformat": 4,
 "nbformat_minor": 5
}
