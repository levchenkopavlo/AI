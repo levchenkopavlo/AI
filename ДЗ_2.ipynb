{
  "nbformat": 4,
  "nbformat_minor": 0,
  "metadata": {
    "colab": {
      "provenance": [],
      "include_colab_link": true
    },
    "kernelspec": {
      "name": "python3",
      "display_name": "Python 3"
    },
    "language_info": {
      "name": "python"
    }
  },
  "cells": [
    {
      "cell_type": "markdown",
      "metadata": {
        "id": "view-in-github",
        "colab_type": "text"
      },
      "source": [
        "<a href=\"https://colab.research.google.com/github/levchenkopavlo/AI/blob/master/%D0%94%D0%97_2.ipynb\" target=\"_parent\"><img src=\"https://colab.research.google.com/assets/colab-badge.svg\" alt=\"Open In Colab\"/></a>"
      ]
    },
    {
      "cell_type": "markdown",
      "source": [
        "Імпортуйте модуль numpy"
      ],
      "metadata": {
        "id": "tk2sNnUDkXK9"
      }
    },
    {
      "cell_type": "code",
      "source": [
        "import numpy as np"
      ],
      "metadata": {
        "id": "1QbCsQ62kUmZ"
      },
      "execution_count": 158,
      "outputs": []
    },
    {
      "cell_type": "markdown",
      "source": [
        "#Завдання 1\n",
        "\n",
        "Створіть масив з парними числами між 30 і 70"
      ],
      "metadata": {
        "id": "ZVC4Yb3JZFO1"
      }
    },
    {
      "cell_type": "code",
      "source": [
        "array = np.arange(30,71,2)\n",
        "print(array)"
      ],
      "metadata": {
        "id": "aunm4Jm_hUkL",
        "colab": {
          "base_uri": "https://localhost:8080/"
        },
        "outputId": "3857e208-d9fe-47fc-d6e1-40a76fa41b82"
      },
      "execution_count": 159,
      "outputs": [
        {
          "output_type": "stream",
          "name": "stdout",
          "text": [
            "[30 32 34 36 38 40 42 44 46 48 50 52 54 56 58 60 62 64 66 68 70]\n"
          ]
        }
      ]
    },
    {
      "cell_type": "markdown",
      "source": [
        "#Завдання 2\n",
        "Створіть масив з 10 числами між 0(включно) та 1(не включно) див документацію"
      ],
      "metadata": {
        "id": "UDSLr3f0b31r"
      }
    },
    {
      "cell_type": "code",
      "source": [
        "array = np.linspace(0., 1., num=10, endpoint=False)\n",
        "print(array)"
      ],
      "metadata": {
        "id": "w7iNkGd_hUM-",
        "colab": {
          "base_uri": "https://localhost:8080/"
        },
        "outputId": "e8db7698-57a1-4b80-e25b-55f88d2709d7"
      },
      "execution_count": 160,
      "outputs": [
        {
          "output_type": "stream",
          "name": "stdout",
          "text": [
            "[0.  0.1 0.2 0.3 0.4 0.5 0.6 0.7 0.8 0.9]\n"
          ]
        }
      ]
    },
    {
      "cell_type": "markdown",
      "source": [
        "#Завдання 4\n",
        "Напишіть функцію яка приймає матрицю розміру nxn та повертає матрицю розміру (n+2) x (n+2), на краях якої розміщенні 0."
      ],
      "metadata": {
        "id": "rtWKmLWhYi_j"
      }
    },
    {
      "cell_type": "code",
      "source": [
        "def array_transform(array):\n",
        "  size = array.shape\n",
        "  blank = np.zeros((size[0]+2, size[1]+2), int)\n",
        "  print(blank)\n",
        "  blank[1:-1, 1:-1] = array\n",
        "  return blank\n",
        "\n",
        "n, m = 3, 4\n",
        "array = np.random.randint(1, 9, size=(n, m))\n",
        "print(array)\n",
        "print(array_transform(array))\n",
        "# print(array.dtype)"
      ],
      "metadata": {
        "id": "mU7vjsnqhVfk",
        "colab": {
          "base_uri": "https://localhost:8080/"
        },
        "outputId": "e4f1351b-5009-46e0-ee60-aef48c1d6d57"
      },
      "execution_count": 161,
      "outputs": [
        {
          "output_type": "stream",
          "name": "stdout",
          "text": [
            "[[2 5 7 3]\n",
            " [8 7 4 2]\n",
            " [3 7 7 6]]\n",
            "[[0 0 0 0 0 0]\n",
            " [0 0 0 0 0 0]\n",
            " [0 0 0 0 0 0]\n",
            " [0 0 0 0 0 0]\n",
            " [0 0 0 0 0 0]]\n",
            "[[0 0 0 0 0 0]\n",
            " [0 2 5 7 3 0]\n",
            " [0 8 7 4 2 0]\n",
            " [0 3 7 7 6 0]\n",
            " [0 0 0 0 0 0]]\n"
          ]
        }
      ]
    },
    {
      "cell_type": "markdown",
      "source": [
        "#Завдання 5\n",
        "У попередьньому масиві змініть тип даних. Виведіть тип даних до та після зміни"
      ],
      "metadata": {
        "id": "ok_hMAEJa9oh"
      }
    },
    {
      "cell_type": "code",
      "source": [
        "# array = array.astype(np.float32)\n",
        "print(array.dtype)\n",
        "array = np.array(array, float)\n",
        "print(array)\n",
        "print(array.dtype)"
      ],
      "metadata": {
        "id": "vYlj3r3ShV98",
        "colab": {
          "base_uri": "https://localhost:8080/"
        },
        "outputId": "25712cac-958d-42d4-b943-99cb2bb30a8c"
      },
      "execution_count": 162,
      "outputs": [
        {
          "output_type": "stream",
          "name": "stdout",
          "text": [
            "int64\n",
            "[[2. 5. 7. 3.]\n",
            " [8. 7. 4. 2.]\n",
            " [3. 7. 7. 6.]]\n",
            "float64\n"
          ]
        }
      ]
    },
    {
      "cell_type": "markdown",
      "source": [
        "#Завдання 6\n",
        "У даному масиві замініть елементи, які дорівнюють\\більші\\менші за var на -1"
      ],
      "metadata": {
        "id": "aR7TWyqgZUDg"
      }
    },
    {
      "cell_type": "code",
      "source": [
        "x = np.array([1, 5, 3, 8, 6, 5, 7, 4])\n",
        "var = 5\n",
        "\n",
        "x[x == var] = -1\n",
        "print(x)"
      ],
      "metadata": {
        "id": "oPzL69Fbg2Wq",
        "colab": {
          "base_uri": "https://localhost:8080/"
        },
        "outputId": "d9fff392-39df-4388-9c08-ac3a8c39aab5"
      },
      "execution_count": 163,
      "outputs": [
        {
          "output_type": "stream",
          "name": "stdout",
          "text": [
            "[ 1 -1  3  8  6 -1  7  4]\n"
          ]
        }
      ]
    },
    {
      "cell_type": "markdown",
      "source": [
        "#Завдання 7\n",
        "Замініть пропущені значення матриці(np.nan) на -1\n",
        "\n",
        "Дивись np.isnan"
      ],
      "metadata": {
        "id": "Ks3Rtc7kajMJ"
      }
    },
    {
      "cell_type": "code",
      "source": [
        "X = np.array([[1, 2, np.nan, 4],\n",
        "              [5, np.nan, np.nan, 4],\n",
        "              [np.nan, 10, 11, np.nan]])\n",
        "X[np.isnan(X)] = -1\n",
        "print(X)\n"
      ],
      "metadata": {
        "id": "Rr8CdINEg3Rj",
        "colab": {
          "base_uri": "https://localhost:8080/"
        },
        "outputId": "b8e7a37a-c0af-465d-cd5a-5bf4f41321e4"
      },
      "execution_count": 164,
      "outputs": [
        {
          "output_type": "stream",
          "name": "stdout",
          "text": [
            "[[ 1.  2. -1.  4.]\n",
            " [ 5. -1. -1.  4.]\n",
            " [-1. 10. 11. -1.]]\n"
          ]
        }
      ]
    },
    {
      "cell_type": "markdown",
      "source": [
        "#Завдання 8\n",
        "Створіть матрицю розміру 4х6 з випадковими числами. Змініть її розмір на 3х8"
      ],
      "metadata": {
        "id": "teYwjikMa0gs"
      }
    },
    {
      "cell_type": "code",
      "source": [
        "# array = np.random.rand(4, 6)\n",
        "array = np.random.randint(1, 10, size=(4, 6))\n",
        "print(array)\n",
        "print(array.reshape((3, 8)))"
      ],
      "metadata": {
        "id": "JhNvUJwxhXED",
        "colab": {
          "base_uri": "https://localhost:8080/"
        },
        "outputId": "fc6fe497-0a15-4a85-dd46-0c980684df1d"
      },
      "execution_count": 165,
      "outputs": [
        {
          "output_type": "stream",
          "name": "stdout",
          "text": [
            "[[3 8 1 7 2 5]\n",
            " [5 4 4 2 9 1]\n",
            " [5 9 7 2 7 9]\n",
            " [8 3 2 8 4 7]]\n",
            "[[3 8 1 7 2 5 5 4]\n",
            " [4 2 9 1 5 9 7 2]\n",
            " [7 9 8 3 2 8 4 7]]\n"
          ]
        }
      ]
    },
    {
      "cell_type": "markdown",
      "source": [
        "#Завдання 9\n",
        "Створіть матрицю з одиниць розміром 3х4. Знайдіть середнє арифметичне(mean) кожного стовпчика"
      ],
      "metadata": {
        "id": "jVE8280acszi"
      }
    },
    {
      "cell_type": "code",
      "source": [
        "array = np.ones((3, 4), int)\n",
        "# array[:, :1] = 2\n",
        "print(array)\n",
        "array.mean(axis=0)"
      ],
      "metadata": {
        "id": "5QI6HPNHhXd4",
        "colab": {
          "base_uri": "https://localhost:8080/"
        },
        "outputId": "c449fae1-c2fb-4842-9834-209605cdfcfb"
      },
      "execution_count": 166,
      "outputs": [
        {
          "output_type": "stream",
          "name": "stdout",
          "text": [
            "[[1 1 1 1]\n",
            " [1 1 1 1]\n",
            " [1 1 1 1]]\n"
          ]
        },
        {
          "output_type": "execute_result",
          "data": {
            "text/plain": [
              "array([1., 1., 1., 1.])"
            ]
          },
          "metadata": {},
          "execution_count": 166
        }
      ]
    },
    {
      "cell_type": "markdown",
      "source": [
        "#Завдання 10\n",
        "Створіть випадкову матрицю розміром 5х6. Округліть значення до одного знаку після коми(np.round). Розмістіть стовпчики так, щоб значення в першому рядку були відсортовані за зростанням"
      ],
      "metadata": {
        "id": "nK6LwLjfc9aC"
      }
    },
    {
      "cell_type": "code",
      "source": [
        "array = np.random.rand(5, 6)\n",
        "print(array)\n",
        "array = array.round(1)\n",
        "print(array)\n",
        "array[0] = np.sort(array[0])\n",
        "print(array)"
      ],
      "metadata": {
        "id": "pERBNp12hX58",
        "colab": {
          "base_uri": "https://localhost:8080/"
        },
        "outputId": "b4b45582-702d-4c35-f534-bf68bd68a652"
      },
      "execution_count": 167,
      "outputs": [
        {
          "output_type": "stream",
          "name": "stdout",
          "text": [
            "[[0.59289568 0.90242755 0.44859875 0.21680496 0.16052448 0.81661873]\n",
            " [0.99835562 0.58472319 0.51612128 0.0718007  0.05859374 0.41572275]\n",
            " [0.48467613 0.04436956 0.07338421 0.92251885 0.29878434 0.89058408]\n",
            " [0.05296221 0.10205612 0.48981924 0.38583989 0.65614853 0.78651635]\n",
            " [0.83019988 0.59419125 0.26661457 0.67569974 0.98800395 0.69324858]]\n",
            "[[0.6 0.9 0.4 0.2 0.2 0.8]\n",
            " [1.  0.6 0.5 0.1 0.1 0.4]\n",
            " [0.5 0.  0.1 0.9 0.3 0.9]\n",
            " [0.1 0.1 0.5 0.4 0.7 0.8]\n",
            " [0.8 0.6 0.3 0.7 1.  0.7]]\n",
            "[[0.2 0.2 0.4 0.6 0.8 0.9]\n",
            " [1.  0.6 0.5 0.1 0.1 0.4]\n",
            " [0.5 0.  0.1 0.9 0.3 0.9]\n",
            " [0.1 0.1 0.5 0.4 0.7 0.8]\n",
            " [0.8 0.6 0.3 0.7 1.  0.7]]\n"
          ]
        }
      ]
    },
    {
      "cell_type": "markdown",
      "source": [
        "#Завдання 11\n",
        "В даній матриці знайдіть всі елементи зі значенням між 3 і 6\n",
        "\n",
        "Дивись документацію np.logical_and"
      ],
      "metadata": {
        "id": "faCqq4bxiXsg"
      }
    },
    {
      "cell_type": "code",
      "source": [
        "X = np.array([[1, 2, 3, 4, 5],\n",
        "              [6, 7, 8, 9, 10],\n",
        "              [9, 8, 7, 6, 5],\n",
        "              [4, 3, 2, 1, 0]])\n",
        "# Y = np.logical_and(X > 3, X <6)\n",
        "# print(Y)\n",
        "# print(X[Y])\n",
        "Y = X[np.logical_and(X > 3, X <6)]\n",
        "print(Y)"
      ],
      "metadata": {
        "id": "01ZY_c-tilOF",
        "colab": {
          "base_uri": "https://localhost:8080/"
        },
        "outputId": "bf2eb99a-fdaf-40c5-a687-d8390d59fe2a"
      },
      "execution_count": 168,
      "outputs": [
        {
          "output_type": "stream",
          "name": "stdout",
          "text": [
            "[4 5 5 4]\n"
          ]
        }
      ]
    },
    {
      "cell_type": "markdown",
      "source": [
        "#Завдання 12\n",
        "Створіть випадкову матрицю розміру 5х6. Нормалізуйте стовпчики: від кожного елемента ставпчика відніміть мінімальне значення та поділіть результат на різницю між максимальним та мінімальним елементом цього стовпчика.\n",
        "\n",
        "Після цього всі значення мають бути в межах [0, 1]"
      ],
      "metadata": {
        "id": "cCZSaa3DMKxb"
      }
    },
    {
      "cell_type": "code",
      "source": [
        "array = np.random.randint(1, 10, size=(5, 6))\n",
        "print(array)\n",
        "# minimal = np.min(array, axis=0)\n",
        "minimal = array.min(axis=0)\n",
        "norm_array = array - minimal\n",
        "norm_array = norm_array / norm_array.max(axis=0)\n",
        "print(norm_array)\n",
        "\n",
        "# або\n",
        "norm_array = (array - array.min(axis=0)) / (array.max(axis=0) - array.min(axis=0))\n",
        "print(norm_array)"
      ],
      "metadata": {
        "id": "qnOYOAgOMqRi",
        "colab": {
          "base_uri": "https://localhost:8080/"
        },
        "outputId": "e0a0efb0-b8ce-452c-fca3-4f248a6fa017"
      },
      "execution_count": 169,
      "outputs": [
        {
          "output_type": "stream",
          "name": "stdout",
          "text": [
            "[[5 8 4 8 3 5]\n",
            " [7 3 6 4 5 2]\n",
            " [2 8 6 1 2 6]\n",
            " [4 4 1 3 5 9]\n",
            " [3 3 9 7 3 8]]\n",
            "[[0.6        1.         0.375      1.         0.33333333 0.42857143]\n",
            " [1.         0.         0.625      0.42857143 1.         0.        ]\n",
            " [0.         1.         0.625      0.         0.         0.57142857]\n",
            " [0.4        0.2        0.         0.28571429 1.         1.        ]\n",
            " [0.2        0.         1.         0.85714286 0.33333333 0.85714286]]\n",
            "[[0.6        1.         0.375      1.         0.33333333 0.42857143]\n",
            " [1.         0.         0.625      0.42857143 1.         0.        ]\n",
            " [0.         1.         0.625      0.         0.         0.57142857]\n",
            " [0.4        0.2        0.         0.28571429 1.         1.        ]\n",
            " [0.2        0.         1.         0.85714286 0.33333333 0.85714286]]\n"
          ]
        }
      ]
    }
  ]
}