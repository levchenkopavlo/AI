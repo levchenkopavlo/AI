{
  "nbformat": 4,
  "nbformat_minor": 0,
  "metadata": {
    "colab": {
      "provenance": [],
      "include_colab_link": true
    },
    "kernelspec": {
      "name": "python3",
      "display_name": "Python 3"
    },
    "language_info": {
      "name": "python"
    }
  },
  "cells": [
    {
      "cell_type": "markdown",
      "metadata": {
        "id": "view-in-github",
        "colab_type": "text"
      },
      "source": [
        "<a href=\"https://colab.research.google.com/github/levchenkopavlo/AI/blob/master/%D0%94%D0%97_2.ipynb\" target=\"_parent\"><img src=\"https://colab.research.google.com/assets/colab-badge.svg\" alt=\"Open In Colab\"/></a>"
      ]
    },
    {
      "cell_type": "markdown",
      "source": [
        "Імпортуйте модуль numpy"
      ],
      "metadata": {
        "id": "tk2sNnUDkXK9"
      }
    },
    {
      "cell_type": "code",
      "source": [
        "import numpy as np"
      ],
      "metadata": {
        "id": "1QbCsQ62kUmZ"
      },
      "execution_count": 102,
      "outputs": []
    },
    {
      "cell_type": "markdown",
      "source": [
        "#Завдання 1\n",
        "\n",
        "Створіть масив з парними числами між 30 і 70"
      ],
      "metadata": {
        "id": "ZVC4Yb3JZFO1"
      }
    },
    {
      "cell_type": "code",
      "source": [
        "array = np.arange(30,71,2)\n",
        "print(array)"
      ],
      "metadata": {
        "id": "aunm4Jm_hUkL",
        "colab": {
          "base_uri": "https://localhost:8080/"
        },
        "outputId": "f2fc21a5-a330-493a-cd7c-3329b286b5be"
      },
      "execution_count": 103,
      "outputs": [
        {
          "output_type": "stream",
          "name": "stdout",
          "text": [
            "[30 32 34 36 38 40 42 44 46 48 50 52 54 56 58 60 62 64 66 68 70]\n"
          ]
        }
      ]
    },
    {
      "cell_type": "markdown",
      "source": [
        "#Завдання 2\n",
        "Створіть масив з 10 числами між 0(включно) та 1(не включно) див документацію"
      ],
      "metadata": {
        "id": "UDSLr3f0b31r"
      }
    },
    {
      "cell_type": "code",
      "source": [
        "array = np.linspace(0., 1., num=10, endpoint=False)\n",
        "print(array)"
      ],
      "metadata": {
        "id": "w7iNkGd_hUM-",
        "colab": {
          "base_uri": "https://localhost:8080/"
        },
        "outputId": "043302c9-9783-44c7-8b35-1c95c5da151a"
      },
      "execution_count": 104,
      "outputs": [
        {
          "output_type": "stream",
          "name": "stdout",
          "text": [
            "[0.  0.1 0.2 0.3 0.4 0.5 0.6 0.7 0.8 0.9]\n"
          ]
        }
      ]
    },
    {
      "cell_type": "markdown",
      "source": [
        "#Завдання 4\n",
        "Напишіть функцію яка приймає матрицю розміру nxn та повертає матрицю розміру (n+2) x (n+2), на краях якої розміщенні 0."
      ],
      "metadata": {
        "id": "rtWKmLWhYi_j"
      }
    },
    {
      "cell_type": "code",
      "source": [
        "def array_transform(array):\n",
        "  size = array.shape\n",
        "  blank = np.zeros((size[0]+2, size[1]+2), int)\n",
        "  print(blank)\n",
        "  blank[1:-1, 1:-1] = array\n",
        "  return blank\n",
        "\n",
        "n, m = 3, 4\n",
        "array = np.random.randint(1, 9, size=(n, m))\n",
        "print(array)\n",
        "print(array_transform(array))\n",
        "# print(array.dtype)"
      ],
      "metadata": {
        "id": "mU7vjsnqhVfk",
        "colab": {
          "base_uri": "https://localhost:8080/"
        },
        "outputId": "7b7a8edd-38ba-4f62-a82c-a8e6b2a6ae46"
      },
      "execution_count": 105,
      "outputs": [
        {
          "output_type": "stream",
          "name": "stdout",
          "text": [
            "[[3 4 3 3]\n",
            " [6 6 4 8]\n",
            " [8 2 5 2]]\n",
            "[[0 0 0 0 0 0]\n",
            " [0 0 0 0 0 0]\n",
            " [0 0 0 0 0 0]\n",
            " [0 0 0 0 0 0]\n",
            " [0 0 0 0 0 0]]\n",
            "[[0 0 0 0 0 0]\n",
            " [0 3 4 3 3 0]\n",
            " [0 6 6 4 8 0]\n",
            " [0 8 2 5 2 0]\n",
            " [0 0 0 0 0 0]]\n"
          ]
        }
      ]
    },
    {
      "cell_type": "markdown",
      "source": [
        "#Завдання 5\n",
        "У попередьньому масиві змініть тип даних. Виведіть тип даних до та після зміни"
      ],
      "metadata": {
        "id": "ok_hMAEJa9oh"
      }
    },
    {
      "cell_type": "code",
      "source": [
        "# array = array.astype(np.float32)\n",
        "print(array.dtype)\n",
        "array = np.array(array, float)\n",
        "print(array)\n",
        "print(array.dtype)"
      ],
      "metadata": {
        "id": "vYlj3r3ShV98",
        "colab": {
          "base_uri": "https://localhost:8080/"
        },
        "outputId": "2fb09d7d-c198-4cc6-aed0-3e40aaae5633"
      },
      "execution_count": 106,
      "outputs": [
        {
          "output_type": "stream",
          "name": "stdout",
          "text": [
            "int64\n",
            "[[3. 4. 3. 3.]\n",
            " [6. 6. 4. 8.]\n",
            " [8. 2. 5. 2.]]\n",
            "float64\n"
          ]
        }
      ]
    },
    {
      "cell_type": "markdown",
      "source": [
        "#Завдання 6\n",
        "У даному масиві замініть елементи, які дорівнюють\\більші\\менші за var на -1"
      ],
      "metadata": {
        "id": "aR7TWyqgZUDg"
      }
    },
    {
      "cell_type": "code",
      "source": [
        "x = np.array([1, 5, 3, 8, 6, 5, 7, 4])\n",
        "var = 5\n",
        "\n",
        "x[x == var] = -1\n",
        "print(x)"
      ],
      "metadata": {
        "id": "oPzL69Fbg2Wq",
        "colab": {
          "base_uri": "https://localhost:8080/"
        },
        "outputId": "b7321270-1156-4dbd-e72c-5b5fb221df49"
      },
      "execution_count": 107,
      "outputs": [
        {
          "output_type": "stream",
          "name": "stdout",
          "text": [
            "[ 1 -1  3  8  6 -1  7  4]\n"
          ]
        }
      ]
    },
    {
      "cell_type": "markdown",
      "source": [
        "#Завдання 7\n",
        "Замініть пропущені значення матриці(np.nan) на -1\n",
        "\n",
        "Дивись np.isnan"
      ],
      "metadata": {
        "id": "Ks3Rtc7kajMJ"
      }
    },
    {
      "cell_type": "code",
      "source": [
        "X = np.array([[1, 2, np.nan, 4],\n",
        "              [5, np.nan, np.nan, 4],\n",
        "              [np.nan, 10, 11, np.nan]])\n",
        "X[np.isnan(X)] = -1\n",
        "print(X)\n"
      ],
      "metadata": {
        "id": "Rr8CdINEg3Rj",
        "colab": {
          "base_uri": "https://localhost:8080/"
        },
        "outputId": "eb6536c8-3bb5-4e36-e069-d2e757a75998"
      },
      "execution_count": 108,
      "outputs": [
        {
          "output_type": "stream",
          "name": "stdout",
          "text": [
            "[[ 1.  2. -1.  4.]\n",
            " [ 5. -1. -1.  4.]\n",
            " [-1. 10. 11. -1.]]\n"
          ]
        }
      ]
    },
    {
      "cell_type": "markdown",
      "source": [
        "#Завдання 8\n",
        "Створіть матрицю розміру 4х6 з випадковими числами. Змініть її розмір на 3х8"
      ],
      "metadata": {
        "id": "teYwjikMa0gs"
      }
    },
    {
      "cell_type": "code",
      "source": [
        "# array = np.random.rand(4, 6)\n",
        "array = np.random.randint(1, 10, size=(4, 6))\n",
        "print(array)\n",
        "print(array.reshape((3, 8)))"
      ],
      "metadata": {
        "id": "JhNvUJwxhXED",
        "colab": {
          "base_uri": "https://localhost:8080/"
        },
        "outputId": "625c2c75-457b-4a2d-fa6c-b78257134949"
      },
      "execution_count": 109,
      "outputs": [
        {
          "output_type": "stream",
          "name": "stdout",
          "text": [
            "[[8 2 2 2 7 2]\n",
            " [3 2 7 2 4 9]\n",
            " [6 3 1 8 6 1]\n",
            " [2 8 9 1 1 2]]\n",
            "[[8 2 2 2 7 2 3 2]\n",
            " [7 2 4 9 6 3 1 8]\n",
            " [6 1 2 8 9 1 1 2]]\n"
          ]
        }
      ]
    },
    {
      "cell_type": "markdown",
      "source": [
        "#Завдання 9\n",
        "Створіть матрицю з одиниць розміром 3х4. Знайдіть середнє арифметичне(mean) кожного стовпчика"
      ],
      "metadata": {
        "id": "jVE8280acszi"
      }
    },
    {
      "cell_type": "code",
      "source": [
        "array = np.ones((3, 4), int)\n",
        "# array[:, :1] = 2\n",
        "print(array)\n",
        "array.mean(axis=0)"
      ],
      "metadata": {
        "id": "5QI6HPNHhXd4",
        "colab": {
          "base_uri": "https://localhost:8080/"
        },
        "outputId": "9f1139b2-ff69-4a3f-92f4-aeb9cb7b3ffc"
      },
      "execution_count": 110,
      "outputs": [
        {
          "output_type": "stream",
          "name": "stdout",
          "text": [
            "[[1 1 1 1]\n",
            " [1 1 1 1]\n",
            " [1 1 1 1]]\n"
          ]
        },
        {
          "output_type": "execute_result",
          "data": {
            "text/plain": [
              "array([1., 1., 1., 1.])"
            ]
          },
          "metadata": {},
          "execution_count": 110
        }
      ]
    },
    {
      "cell_type": "markdown",
      "source": [
        "#Завдання 10\n",
        "Створіть випадкову матрицю розміром 5х6. Округліть значення до одного знаку після коми(np.round). Розмістіть стовпчики так, щоб значення в першому рядку були відсортовані за зростанням"
      ],
      "metadata": {
        "id": "nK6LwLjfc9aC"
      }
    },
    {
      "cell_type": "code",
      "source": [
        "array = np.random.rand(5, 6)\n",
        "print(array)\n",
        "array = array.round(1)\n",
        "print(array)\n",
        "array[0] = np.sort(array[0])\n",
        "print(array)"
      ],
      "metadata": {
        "id": "pERBNp12hX58",
        "colab": {
          "base_uri": "https://localhost:8080/"
        },
        "outputId": "cb3e8ebd-9bd2-4a30-a27f-676ebae1bfaf"
      },
      "execution_count": 120,
      "outputs": [
        {
          "output_type": "stream",
          "name": "stdout",
          "text": [
            "[[0.82426701 0.66237634 0.25188588 0.35299942 0.66576451 0.69015104]\n",
            " [0.36459637 0.60778095 0.84342725 0.97189299 0.17330146 0.56133614]\n",
            " [0.84715459 0.98152268 0.92274563 0.6399297  0.17725102 0.83056249]\n",
            " [0.03449462 0.4862023  0.89520944 0.84528898 0.5400736  0.63692563]\n",
            " [0.28316489 0.13227146 0.60679119 0.54743554 0.61702348 0.12546661]]\n",
            "[[0.8 0.7 0.3 0.4 0.7 0.7]\n",
            " [0.4 0.6 0.8 1.  0.2 0.6]\n",
            " [0.8 1.  0.9 0.6 0.2 0.8]\n",
            " [0.  0.5 0.9 0.8 0.5 0.6]\n",
            " [0.3 0.1 0.6 0.5 0.6 0.1]]\n",
            "[[0.3 0.4 0.7 0.7 0.7 0.8]\n",
            " [0.4 0.6 0.8 1.  0.2 0.6]\n",
            " [0.8 1.  0.9 0.6 0.2 0.8]\n",
            " [0.  0.5 0.9 0.8 0.5 0.6]\n",
            " [0.3 0.1 0.6 0.5 0.6 0.1]]\n"
          ]
        }
      ]
    },
    {
      "cell_type": "markdown",
      "source": [
        "#Завдання 11\n",
        "В даній матриці знайдіть всі елементи зі значенням між 3 і 6\n",
        "\n",
        "Дивись документацію np.logical_and"
      ],
      "metadata": {
        "id": "faCqq4bxiXsg"
      }
    },
    {
      "cell_type": "code",
      "source": [
        "X = np.array([[1, 2, 3, 4, 5],\n",
        "              [6, 7, 8, 9, 10],\n",
        "              [9, 8, 7, 6, 5],\n",
        "              [4, 3, 2, 1, 0]])\n",
        "# Y = np.logical_and(X > 3, X <6)\n",
        "# print(Y)\n",
        "# print(X[Y])\n",
        "Y = X[np.logical_and(X > 3, X <6)]\n",
        "print(Y)"
      ],
      "metadata": {
        "id": "01ZY_c-tilOF",
        "colab": {
          "base_uri": "https://localhost:8080/"
        },
        "outputId": "4cb729c2-c344-4ca9-cd1e-54b3275e399f"
      },
      "execution_count": 130,
      "outputs": [
        {
          "output_type": "stream",
          "name": "stdout",
          "text": [
            "[[False False False  True  True]\n",
            " [False False False False False]\n",
            " [False False False False  True]\n",
            " [ True False False False False]]\n",
            "[4 5 5 4]\n",
            "[4 5 5 4]\n"
          ]
        }
      ]
    },
    {
      "cell_type": "markdown",
      "source": [
        "#Завдання 12\n",
        "Створіть випадкову матрицю розміру 5х6. Нормалізуйте стовпчики: від кожного елемента ставпчика відніміть мінімальне значення та поділіть результат на різницю між максимальним та мінімальним елементом цього стовпчика.\n",
        "\n",
        "Після цього всі значення мають бути в межах [0, 1]"
      ],
      "metadata": {
        "id": "cCZSaa3DMKxb"
      }
    },
    {
      "cell_type": "code",
      "source": [
        "array = np.random.randint(1, 10, size=(5, 6))\n",
        "print(array)\n",
        "# minimal = np.min(array, axis=0)\n",
        "# print(minimal)\n",
        "minimal = array.min(axis=0)\n",
        "print(minimal)\n",
        "array = array - minimal\n",
        "print(array)\n",
        "# max_min_dif = array.max(axis=0) - array.min(axis=0)\n",
        "# print(max_min_dif)\n",
        "array = array / array.max(axis=0)\n",
        "print(array)"
      ],
      "metadata": {
        "id": "qnOYOAgOMqRi",
        "colab": {
          "base_uri": "https://localhost:8080/"
        },
        "outputId": "d8e61d53-d950-463a-8ffd-114cf4d3b63a"
      },
      "execution_count": 138,
      "outputs": [
        {
          "output_type": "stream",
          "name": "stdout",
          "text": [
            "[[1 9 7 4 4 5]\n",
            " [2 4 6 6 4 1]\n",
            " [4 2 4 8 2 4]\n",
            " [5 4 1 1 6 7]\n",
            " [5 4 2 8 3 3]]\n",
            "[1 2 1 1 2 1]\n",
            "[[0 7 6 3 2 4]\n",
            " [1 2 5 5 2 0]\n",
            " [3 0 3 7 0 3]\n",
            " [4 2 0 0 4 6]\n",
            " [4 2 1 7 1 2]]\n",
            "[[0.         1.         1.         0.42857143 0.5        0.66666667]\n",
            " [0.25       0.28571429 0.83333333 0.71428571 0.5        0.        ]\n",
            " [0.75       0.         0.5        1.         0.         0.5       ]\n",
            " [1.         0.28571429 0.         0.         1.         1.        ]\n",
            " [1.         0.28571429 0.16666667 1.         0.25       0.33333333]]\n"
          ]
        }
      ]
    }
  ]
}