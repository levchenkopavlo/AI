{
  "nbformat": 4,
  "nbformat_minor": 0,
  "metadata": {
    "colab": {
      "provenance": [],
      "include_colab_link": true
    },
    "kernelspec": {
      "name": "python3",
      "display_name": "Python 3"
    },
    "language_info": {
      "name": "python"
    }
  },
  "cells": [
    {
      "cell_type": "markdown",
      "metadata": {
        "id": "view-in-github",
        "colab_type": "text"
      },
      "source": [
        "<a href=\"https://colab.research.google.com/github/levchenkopavlo/AI/blob/master/2_%D0%9F%D1%80%D0%B0%D0%BA%D1%82%D0%B8%D0%BA%D0%B0_numpy.ipynb\" target=\"_parent\"><img src=\"https://colab.research.google.com/assets/colab-badge.svg\" alt=\"Open In Colab\"/></a>"
      ]
    },
    {
      "cell_type": "markdown",
      "source": [
        "Імпортуйте модуль numpy"
      ],
      "metadata": {
        "id": "rIioSM27QJ8x"
      }
    },
    {
      "cell_type": "code",
      "execution_count": 1,
      "metadata": {
        "id": "rDtfBq8ANBhL"
      },
      "outputs": [],
      "source": [
        "import numpy as np"
      ]
    },
    {
      "cell_type": "markdown",
      "source": [
        "# Завдання 1\n",
        "Створіть масив з елементами від 1 до 12. Виведіть розмір та тип масиву"
      ],
      "metadata": {
        "id": "npT_FnlcNwke"
      }
    },
    {
      "cell_type": "code",
      "source": [
        "array = np.arange(1,13)\n",
        "print(array)\n",
        "print(array.size)\n",
        "print(type(array))"
      ],
      "metadata": {
        "id": "02EdQMKlOZHr",
        "colab": {
          "base_uri": "https://localhost:8080/"
        },
        "outputId": "0df55bd7-e7bc-4858-9299-a22979b89071"
      },
      "execution_count": 5,
      "outputs": [
        {
          "output_type": "stream",
          "name": "stdout",
          "text": [
            "[ 1  2  3  4  5  6  7  8  9 10 11 12]\n",
            "12\n",
            "<class 'numpy.ndarray'>\n"
          ]
        }
      ]
    },
    {
      "cell_type": "markdown",
      "source": [
        "# Завдання 2\n",
        "Зробіть на основі попереднього масиву матрицю з 4 стовчиками. Змініть тип даних матриці на float32. Виведіть транспоновану матрицю."
      ],
      "metadata": {
        "id": "HH8hOwVhNxWE"
      }
    },
    {
      "cell_type": "code",
      "source": [
        "new_array = array.reshape(-1, 4)\n",
        "new_array = new_array.astype(np.float32)"
      ],
      "metadata": {
        "id": "4jYqwTycOYbN"
      },
      "execution_count": 6,
      "outputs": []
    },
    {
      "cell_type": "markdown",
      "source": [
        "#Завдання 3\n",
        "Створіть матрицю 8х8 з 0 та 1 розміщеними в шаховому порядку"
      ],
      "metadata": {
        "id": "T35Vjkz1Nxez"
      }
    },
    {
      "cell_type": "code",
      "source": [
        "array = np.zeros((8,8))\n",
        "print(array)\n",
        "array[::2,::2]=1\n",
        "array[1::2,1::2]=1\n",
        "print(array)\n"
      ],
      "metadata": {
        "id": "mrbnfiPQPu_n",
        "colab": {
          "base_uri": "https://localhost:8080/"
        },
        "outputId": "32c4e738-416b-49c6-e841-8b99ec1b9b6c"
      },
      "execution_count": 25,
      "outputs": [
        {
          "output_type": "stream",
          "name": "stdout",
          "text": [
            "[[0. 0. 0. 0. 0. 0. 0. 0.]\n",
            " [0. 0. 0. 0. 0. 0. 0. 0.]\n",
            " [0. 0. 0. 0. 0. 0. 0. 0.]\n",
            " [0. 0. 0. 0. 0. 0. 0. 0.]\n",
            " [0. 0. 0. 0. 0. 0. 0. 0.]\n",
            " [0. 0. 0. 0. 0. 0. 0. 0.]\n",
            " [0. 0. 0. 0. 0. 0. 0. 0.]\n",
            " [0. 0. 0. 0. 0. 0. 0. 0.]]\n",
            "[[1. 0. 1. 0. 1. 0. 1. 0.]\n",
            " [0. 1. 0. 1. 0. 1. 0. 1.]\n",
            " [1. 0. 1. 0. 1. 0. 1. 0.]\n",
            " [0. 1. 0. 1. 0. 1. 0. 1.]\n",
            " [1. 0. 1. 0. 1. 0. 1. 0.]\n",
            " [0. 1. 0. 1. 0. 1. 0. 1.]\n",
            " [1. 0. 1. 0. 1. 0. 1. 0.]\n",
            " [0. 1. 0. 1. 0. 1. 0. 1.]]\n"
          ]
        }
      ]
    },
    {
      "cell_type": "markdown",
      "source": [
        "# Завдання 4\n",
        "Створіть випадкову матрицю 4х3. Знайдіть суму елементів в стовпчиках\\рядках\\усій матриці"
      ],
      "metadata": {
        "id": "g87KAY1nNxoy"
      }
    },
    {
      "cell_type": "code",
      "source": [
        "array = np.random.rand(4,3)\n",
        "print(array)\n",
        "print(array.sum(axis=0))\n",
        "print(array.sum(axis=1))\n",
        "print(array.sum())"
      ],
      "metadata": {
        "id": "RGA3022VQIZV",
        "colab": {
          "base_uri": "https://localhost:8080/"
        },
        "outputId": "913c0ab4-a736-4204-dcba-84fafa4d5e28"
      },
      "execution_count": 10,
      "outputs": [
        {
          "output_type": "stream",
          "name": "stdout",
          "text": [
            "[[0.15403702 0.26837283 0.60452794]\n",
            " [0.39677844 0.74996859 0.96463357]\n",
            " [0.58778173 0.31882427 0.03329774]\n",
            " [0.19631259 0.15195425 0.60790399]]\n",
            "[1.33490978 1.48911995 2.21036324]\n",
            "[1.0269378  2.1113806  0.93990373 0.95617084]\n",
            "5.034392967029813\n"
          ]
        }
      ]
    },
    {
      "cell_type": "markdown",
      "source": [
        "# Завдання 5\n",
        "У попередній матриці від кожного рядка відніміть максимальний елемент цього рядка"
      ],
      "metadata": {
        "id": "AGH0TVVBNxx9"
      }
    },
    {
      "cell_type": "code",
      "source": [
        "max = array.max(axis=1, keepdims=True)\n",
        "print(max)\n",
        "print(array - max)"
      ],
      "metadata": {
        "id": "TVYjbsBDQHTU",
        "colab": {
          "base_uri": "https://localhost:8080/"
        },
        "outputId": "6e4d5d56-11b8-4ad2-a99f-4f3d1f45293b"
      },
      "execution_count": 14,
      "outputs": [
        {
          "output_type": "stream",
          "name": "stdout",
          "text": [
            "[[0.60452794]\n",
            " [0.96463357]\n",
            " [0.58778173]\n",
            " [0.60790399]]\n",
            "[[-0.45049093 -0.33615511  0.        ]\n",
            " [-0.56785512 -0.21466498  0.        ]\n",
            " [ 0.         -0.26895746 -0.55448399]\n",
            " [-0.4115914  -0.45594974  0.        ]]\n"
          ]
        }
      ]
    },
    {
      "cell_type": "markdown",
      "source": [
        "# Завдання 6\n",
        "Є дані про вагу контейнерів для перевезення на кораблі: дрібний - 5 т,  малий - 10 т, середній - 25 т, великий - 40 т. На кораблі розміщено 20 дрібних, 5 малих, 10 середніх та 4 великих контейнерів. Знайти масу вантажу."
      ],
      "metadata": {
        "id": "cH8WhnsjQsXi"
      }
    },
    {
      "cell_type": "code",
      "source": [],
      "metadata": {
        "id": "BYrqqe9WR6g7"
      },
      "execution_count": null,
      "outputs": []
    },
    {
      "cell_type": "markdown",
      "source": [
        "# Завдання 7\n",
        "Тепер у нас декілька кораблів. Напишіть код для обчислення вантажу на кожному кораблі."
      ],
      "metadata": {
        "id": "IhdiDOh3Qrmb"
      }
    },
    {
      "cell_type": "code",
      "source": [],
      "metadata": {
        "id": "gVUXPdFhSI95"
      },
      "execution_count": null,
      "outputs": []
    }
  ]
}